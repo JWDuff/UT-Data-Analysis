{
 "cells": [
  {
   "cell_type": "markdown",
   "id": "020d0289",
   "metadata": {},
   "source": [
    "# This workbook is first learning/exploring how to perform EDA with Python and learning the language"
   ]
  },
  {
   "cell_type": "code",
   "execution_count": 2,
   "id": "1a389c25",
   "metadata": {},
   "outputs": [
    {
     "name": "stdout",
     "output_type": "stream",
     "text": [
      "   in-store  age  items   amount  region\n",
      "0         0   37      4   281.03       2\n",
      "1         0   35      2   219.51       2\n",
      "2         1   45      3  1525.70       4\n",
      "3         1   46      3   715.25       3\n",
      "4         1   33      4  1937.50       1\n"
     ]
    }
   ],
   "source": [
    "import numpy as np\n",
    "import pandas as pd\n",
    "#data = pd.read_csv('C:\\Users\\dufff\\anaconda3\\envs\\UTDataAnalysis\\Demographic_Data.csv')\n",
    "#   Could not get above code line from textbook to work for me no matter what path I put into it\n",
    "\n",
    "# Takes the file's folder\n",
    "filepath = r\"C:\\Users\\dufff\\Course1\\Demographic_Data.csv\"\n",
    "   \n",
    "# read the CSV file\n",
    "data = pd.read_csv(filepath)\n",
    "data1 = data\n",
    "print(data1.head())"
   ]
  },
  {
   "cell_type": "markdown",
   "id": "2af35073",
   "metadata": {},
   "source": [
    "# Note: Keeping above code for reference on how to upload via mapping  -  feedback from class via slack helped me learn more about Jupyter file management"
   ]
  },
  {
   "cell_type": "code",
   "execution_count": 3,
   "id": "fb687d1e",
   "metadata": {},
   "outputs": [
    {
     "name": "stdout",
     "output_type": "stream",
     "text": [
      "in-store      int64\n",
      "age           int64\n",
      "items         int64\n",
      "amount      float64\n",
      "region        int64\n",
      "dtype: object\n",
      "\n",
      "           in-store           age         items        amount        region\n",
      "count  79979.000000  79979.000000  79979.000000  79979.000000  79979.000000\n",
      "mean       0.500006     45.758512      4.505133    835.825727      2.674915\n",
      "std        0.500003     15.715158      2.061250    721.263650      1.126642\n",
      "min        0.000000     18.000000      1.000000      5.004700      1.000000\n",
      "25%        0.000000     33.000000      3.000000    285.120000      2.000000\n",
      "50%        1.000000     45.000000      4.000000    582.140000      3.000000\n",
      "75%        1.000000     56.000000      6.000000   1233.400000      4.000000\n",
      "max        1.000000     85.000000      8.000000   3000.000000      4.000000\n",
      "\n"
     ]
    },
    {
     "data": {
      "text/html": [
       "<div>\n",
       "<style scoped>\n",
       "    .dataframe tbody tr th:only-of-type {\n",
       "        vertical-align: middle;\n",
       "    }\n",
       "\n",
       "    .dataframe tbody tr th {\n",
       "        vertical-align: top;\n",
       "    }\n",
       "\n",
       "    .dataframe thead th {\n",
       "        text-align: right;\n",
       "    }\n",
       "</style>\n",
       "<table border=\"1\" class=\"dataframe\">\n",
       "  <thead>\n",
       "    <tr style=\"text-align: right;\">\n",
       "      <th></th>\n",
       "      <th>in-store</th>\n",
       "      <th>age</th>\n",
       "      <th>items</th>\n",
       "      <th>amount</th>\n",
       "      <th>region</th>\n",
       "    </tr>\n",
       "  </thead>\n",
       "  <tbody>\n",
       "    <tr>\n",
       "      <th>0</th>\n",
       "      <td>0</td>\n",
       "      <td>37</td>\n",
       "      <td>4</td>\n",
       "      <td>281.03</td>\n",
       "      <td>2</td>\n",
       "    </tr>\n",
       "    <tr>\n",
       "      <th>1</th>\n",
       "      <td>0</td>\n",
       "      <td>35</td>\n",
       "      <td>2</td>\n",
       "      <td>219.51</td>\n",
       "      <td>2</td>\n",
       "    </tr>\n",
       "    <tr>\n",
       "      <th>2</th>\n",
       "      <td>1</td>\n",
       "      <td>45</td>\n",
       "      <td>3</td>\n",
       "      <td>1525.70</td>\n",
       "      <td>4</td>\n",
       "    </tr>\n",
       "    <tr>\n",
       "      <th>3</th>\n",
       "      <td>1</td>\n",
       "      <td>46</td>\n",
       "      <td>3</td>\n",
       "      <td>715.25</td>\n",
       "      <td>3</td>\n",
       "    </tr>\n",
       "    <tr>\n",
       "      <th>4</th>\n",
       "      <td>1</td>\n",
       "      <td>33</td>\n",
       "      <td>4</td>\n",
       "      <td>1937.50</td>\n",
       "      <td>1</td>\n",
       "    </tr>\n",
       "    <tr>\n",
       "      <th>...</th>\n",
       "      <td>...</td>\n",
       "      <td>...</td>\n",
       "      <td>...</td>\n",
       "      <td>...</td>\n",
       "      <td>...</td>\n",
       "    </tr>\n",
       "    <tr>\n",
       "      <th>79995</th>\n",
       "      <td>1</td>\n",
       "      <td>71</td>\n",
       "      <td>3</td>\n",
       "      <td>558.82</td>\n",
       "      <td>1</td>\n",
       "    </tr>\n",
       "    <tr>\n",
       "      <th>79996</th>\n",
       "      <td>0</td>\n",
       "      <td>59</td>\n",
       "      <td>7</td>\n",
       "      <td>1932.00</td>\n",
       "      <td>3</td>\n",
       "    </tr>\n",
       "    <tr>\n",
       "      <th>79997</th>\n",
       "      <td>0</td>\n",
       "      <td>54</td>\n",
       "      <td>1</td>\n",
       "      <td>414.16</td>\n",
       "      <td>2</td>\n",
       "    </tr>\n",
       "    <tr>\n",
       "      <th>79998</th>\n",
       "      <td>1</td>\n",
       "      <td>49</td>\n",
       "      <td>4</td>\n",
       "      <td>335.32</td>\n",
       "      <td>1</td>\n",
       "    </tr>\n",
       "    <tr>\n",
       "      <th>79999</th>\n",
       "      <td>1</td>\n",
       "      <td>30</td>\n",
       "      <td>1</td>\n",
       "      <td>527.12</td>\n",
       "      <td>3</td>\n",
       "    </tr>\n",
       "  </tbody>\n",
       "</table>\n",
       "<p>79979 rows × 5 columns</p>\n",
       "</div>"
      ],
      "text/plain": [
       "       in-store  age  items   amount  region\n",
       "0             0   37      4   281.03       2\n",
       "1             0   35      2   219.51       2\n",
       "2             1   45      3  1525.70       4\n",
       "3             1   46      3   715.25       3\n",
       "4             1   33      4  1937.50       1\n",
       "...         ...  ...    ...      ...     ...\n",
       "79995         1   71      3   558.82       1\n",
       "79996         0   59      7  1932.00       3\n",
       "79997         0   54      1   414.16       2\n",
       "79998         1   49      4   335.32       1\n",
       "79999         1   30      1   527.12       3\n",
       "\n",
       "[79979 rows x 5 columns]"
      ]
     },
     "execution_count": 3,
     "metadata": {},
     "output_type": "execute_result"
    }
   ],
   "source": [
    "#importing/cleaning data set \n",
    "import numpy as np\n",
    "import pandas as pd\n",
    "import matplotlib.pyplot as plt\n",
    "data = pd.read_csv('Demographic_Data.csv')\n",
    "data = data.drop_duplicates()\n",
    "print(data.dtypes)\n",
    "print()\n",
    "print(data.describe())\n",
    "print()\n",
    "data\n",
    "\n",
    "                                                       "
   ]
  },
  {
   "cell_type": "code",
   "execution_count": 4,
   "id": "2128d16a",
   "metadata": {},
   "outputs": [
    {
     "name": "stdout",
     "output_type": "stream",
     "text": [
      "   in-store  age  items   amount  region\n",
      "0         0   37      4   281.03       2\n",
      "1         0   35      2   219.51       2\n",
      "2         1   45      3  1525.70       4\n",
      "3         1   46      3   715.25       3\n",
      "4         1   33      4  1937.50       1\n",
      "in-store      int64\n",
      "age           int64\n",
      "items         int64\n",
      "amount      float64\n",
      "region        int64\n",
      "dtype: object\n"
     ]
    },
    {
     "data": {
      "image/png": "[encoded data removed]",
      "text/plain": [
       "<Figure size 432x288 with 1 Axes>"
      ]
     },
     "metadata": {
      "needs_background": "light"
     },
     "output_type": "display_data"
    },
    {
     "data": {
      "image/png": "[encoded data removed]",
      "text/plain": [
       "<Figure size 432x288 with 1 Axes>"
      ]
     },
     "metadata": {
      "needs_background": "light"
     },
     "output_type": "display_data"
    }
   ],
   "source": [
    "  # To rename regions from numbers to North, South...etc, need to be sure data-types are aligned....e.g. string/object.\n",
    "#data.region = data.region.astype(str)\n",
    "#data['region'] = data['region'].replace(['1','2','3','4'],['North','South','East','West'])\n",
    "#print(data.dtypes)\n",
    "#print(data.describe())\n",
    "print(data.head())\n",
    "print(data.dtypes)\n",
    "\n",
    "plt.hist(data['age'], bins=8)\n",
    "plt.title('Age Histogram')\n",
    "plt.show()\n",
    "plt.hist(data['amount'], bins=8)\n",
    "plt.title('Amount Histogram')\n",
    "plt.show()\n",
    "#plt.boxplot('amount')\n",
    "plt.show()"
   ]
  },
  {
   "cell_type": "code",
   "execution_count": 5,
   "id": "31d8f3c1",
   "metadata": {},
   "outputs": [
    {
     "data": {
      "text/plain": [
       "<function matplotlib.pyplot.show(close=None, block=None)>"
      ]
     },
     "execution_count": 5,
     "metadata": {},
     "output_type": "execute_result"
    },
    {
     "data": {
      "image/png": "[encoded data removed]",
      "text/plain": [
       "<Figure size 432x288 with 1 Axes>"
      ]
     },
     "metadata": {
      "needs_background": "light"
     },
     "output_type": "display_data"
    }
   ],
   "source": [
    "import numpy as np\n",
    "#data for plotting\n",
    "t = np.arange(0.0, 2.0, 0.01)\n",
    "s = 1 + np.sin(2*np.pi*t)\n",
    "fig, ax = plt.subplots()\n",
    "ax.plot(t,s)\n",
    "plt.show\n"
   ]
  },
  {
   "cell_type": "code",
   "execution_count": 6,
   "id": "8b9a7497",
   "metadata": {},
   "outputs": [
    {
     "data": {
      "text/plain": [
       "<function matplotlib.pyplot.show(close=None, block=None)>"
      ]
     },
     "execution_count": 6,
     "metadata": {},
     "output_type": "execute_result"
    },
    {
     "data": {
      "image/png": "[encoded data removed]",
      "text/plain": [
       "<Figure size 432x288 with 1 Axes>"
      ]
     },
     "metadata": {
      "needs_background": "light"
     },
     "output_type": "display_data"
    }
   ],
   "source": [
    "data_sample = data.sample(1000)\n",
    "x = data_sample['age']\n",
    "y = data_sample['amount']\n",
    "plt.scatter(x,y, marker = 'o')\n",
    "plt.title('Scatter Age by Amount (sample of 1000)')\n",
    "plt.ylabel('Amount')\n",
    "plt.xlabel('Age')\n",
    "\n",
    "plt.show"
   ]
  },
  {
   "cell_type": "code",
   "execution_count": 7,
   "id": "8b60a000",
   "metadata": {},
   "outputs": [
    {
     "data": {
      "text/plain": [
       "<function matplotlib.pyplot.show(close=None, block=None)>"
      ]
     },
     "execution_count": 7,
     "metadata": {},
     "output_type": "execute_result"
    },
    {
     "data": {
      "image/png": "[encoded data removed]",
      "text/plain": [
       "<Figure size 432x288 with 1 Axes>"
      ]
     },
     "metadata": {
      "needs_background": "light"
     },
     "output_type": "display_data"
    }
   ],
   "source": [
    "\n",
    "ageCount= data.groupby(['age'], as_index = False).count()   # \"Index = False\" flattens data stack\n",
    "# ageCount\n",
    "x = ageCount['age']\n",
    "y = ageCount['amount']\n",
    "plt.plot(x,y, marker = 'o')\n",
    "plt.title('Transactions by Age')\n",
    "plt.ylabel('Count')\n",
    "plt.xlabel('Age')\n",
    "\n",
    "plt.show\n"
   ]
  },
  {
   "cell_type": "code",
   "execution_count": 8,
   "id": "1eb63f25",
   "metadata": {},
   "outputs": [
    {
     "data": {
      "text/plain": [
       "<function matplotlib.pyplot.show(close=None, block=None)>"
      ]
     },
     "execution_count": 8,
     "metadata": {},
     "output_type": "execute_result"
    },
    {
     "data": {
      "image/png": "[encoded data removed]",
      "text/plain": [
       "<Figure size 432x288 with 1 Axes>"
      ]
     },
     "metadata": {
      "needs_background": "light"
     },
     "output_type": "display_data"
    }
   ],
   "source": [
    "x = data['region']\n",
    "y = data['amount']\n",
    "plt.title('Scatter Region by Amount')\n",
    "plt.ylabel('amount')\n",
    "plt.xlabel('Region')\n",
    "plt.scatter(x,y, marker = 'o')\n",
    "plt.show"
   ]
  },
  {
   "cell_type": "code",
   "execution_count": 9,
   "id": "9aaf51f0",
   "metadata": {},
   "outputs": [
    {
     "data": {
      "text/plain": [
       "<function matplotlib.pyplot.show(close=None, block=None)>"
      ]
     },
     "execution_count": 9,
     "metadata": {},
     "output_type": "execute_result"
    },
    {
     "data": {
      "image/png": "[encoded data removed]",
      "text/plain": [
       "<Figure size 432x288 with 1 Axes>"
      ]
     },
     "metadata": {
      "needs_background": "light"
     },
     "output_type": "display_data"
    }
   ],
   "source": [
    "x = data['region']\n",
    "y = data['age']\n",
    "plt.scatter(x,y, marker = 'o')\n",
    "plt.title('Scatter Region by Age')\n",
    "plt.ylabel('Age')\n",
    "plt.xlabel('Region')\n",
    "plt.show"
   ]
  },
  {
   "cell_type": "code",
   "execution_count": 10,
   "id": "b3deda5d",
   "metadata": {},
   "outputs": [
    {
     "name": "stdout",
     "output_type": "stream",
     "text": [
      "Index(['in-store', 'age', 'items', 'amount', 'region'], dtype='object')\n"
     ]
    },
    {
     "data": {
      "text/plain": [
       "<function matplotlib.pyplot.show(close=None, block=None)>"
      ]
     },
     "execution_count": 10,
     "metadata": {},
     "output_type": "execute_result"
    },
    {
     "data": {
      "image/png": "[encoded data removed]",
      "text/plain": [
       "<Figure size 432x288 with 1 Axes>"
      ]
     },
     "metadata": {
      "needs_background": "light"
     },
     "output_type": "display_data"
    }
   ],
   "source": [
    "header = data.dtypes.index\n",
    "print(header)\n",
    "A = data['amount']\n",
    "green_diamond = dict(markerfacecolor = 'g', marker = 'D')\n",
    "#plt.boxplot(A,0, 'gD')\n",
    "plt.boxplot(A,0, flierprops=green_diamond)\n",
    "plt.title('Box Plot Entire Data Set')\n",
    "plt.ylabel('$', rotation=0)\n",
    "plt.xlabel('Amount Spent / Transaction')\n",
    "plt.show\n",
    "\n",
    "\n"
   ]
  },
  {
   "cell_type": "code",
   "execution_count": 11,
   "id": "eb3a72b4",
   "metadata": {},
   "outputs": [
    {
     "name": "stdout",
     "output_type": "stream",
     "text": [
      "Index(['in-store', 'age', 'items', 'amount', 'region'], dtype='object')\n"
     ]
    },
    {
     "data": {
      "text/plain": [
       "<function matplotlib.pyplot.show(close=None, block=None)>"
      ]
     },
     "execution_count": 11,
     "metadata": {},
     "output_type": "execute_result"
    },
    {
     "data": {
      "image/png": "[encoded data removed]",
      "text/plain": [
       "<Figure size 432x288 with 1 Axes>"
      ]
     },
     "metadata": {
      "needs_background": "light"
     },
     "output_type": "display_data"
    }
   ],
   "source": [
    "header = data.dtypes.index\n",
    "print(header)\n",
    "Age = data['age']\n",
    "plt.boxplot(Age,0, 'gD',)\n",
    "plt.title('Box Plot of entire Data Set')\n",
    "plt.ylabel('years')\n",
    "plt.xlabel('Age')\n",
    "plt.show"
   ]
  },
  {
   "cell_type": "code",
   "execution_count": 12,
   "id": "512a8e95",
   "metadata": {},
   "outputs": [
    {
     "data": {
      "image/png": "[encoded data removed]",
      "text/plain": [
       "<Figure size 432x288 with 1 Axes>"
      ]
     },
     "metadata": {
      "needs_background": "light"
     },
     "output_type": "display_data"
    }
   ],
   "source": [
    "#Boxplot of Age for each Region in one figure.\n",
    "#Slice data for Age and Region.\n",
    "Rdata = data.iloc[:,[1,4]]\n",
    "# print(Rdata) # check output\n",
    "# Create datatable of age for each regions\n",
    "North = Rdata.loc[Rdata['region'] == 1]\n",
    "South = Rdata.loc[Rdata['region'] == 2]\n",
    "East = Rdata.loc[Rdata['region'] == 3]\n",
    "West = Rdata.loc[Rdata['region'] == 4]\n",
    "# print(North)\n",
    "# Create Datatable of just age column for each region for age\n",
    "Nage = North['age']\n",
    "Sage = South['age']\n",
    "Eage = East['age']\n",
    "Wage = West['age']\n",
    "# print(Nage)  #check output\n",
    "\n",
    "\n",
    "RegionAge = [Nage, Sage, Eage, Wage]\n",
    "labels = ['North', 'South', 'East', 'West']\n",
    "fig, ax = plt.subplots()\n",
    "ax.set_title('Age Boxplots by Region')\n",
    "ax.set_ylabel('Years', rotation=0, loc='top')\n",
    "ax.boxplot(RegionAge, labels=labels)\n",
    "\n",
    "plt.show()\n",
    "\n"
   ]
  },
  {
   "cell_type": "code",
   "execution_count": 13,
   "id": "77bff4a5",
   "metadata": {},
   "outputs": [
    {
     "data": {
      "image/png": "[encoded data removed]",
      "text/plain": [
       "<Figure size 432x288 with 1 Axes>"
      ]
     },
     "metadata": {
      "needs_background": "light"
     },
     "output_type": "display_data"
    }
   ],
   "source": [
    "#Boxplot of Age for each Region in one figure.\n",
    "#Slice data for Age and Region.\n",
    "Rdata = data.iloc[:,[3,4]]\n",
    "# print(Rdata) # check output\n",
    "# Create datatable of age for each regions\n",
    "North = Rdata.loc[Rdata['region'] == 1]\n",
    "South = Rdata.loc[Rdata['region'] == 2]\n",
    "East = Rdata.loc[Rdata['region'] == 3]\n",
    "West = Rdata.loc[Rdata['region'] == 4]\n",
    "# print(North)\n",
    "# Create Datatable of just age column for each region for age\n",
    "Nage = North['amount']\n",
    "Sage = South['amount']\n",
    "Eage = East['amount']\n",
    "Wage = West['amount']\n",
    "# print(Nage)  #check output\n",
    "\n",
    "#RegionAge = []\n",
    "RegionAge = [Nage, Sage, Eage, Wage]\n",
    "labels = ['North', 'South', 'East', 'West']\n",
    "fig, ax = plt.subplots()\n",
    "ax.set_title('Amount Boxplots by Region')\n",
    "ax.set_ylabel('$', rotation=0, loc='top')\n",
    "ax.boxplot(RegionAge, labels=labels)\n",
    "\n",
    "plt.show()"
   ]
  },
  {
   "cell_type": "code",
   "execution_count": 14,
   "id": "88f6a76a",
   "metadata": {},
   "outputs": [
    {
     "name": "stdout",
     "output_type": "stream",
     "text": [
      "in-store    1.0\n",
      "region      3.0\n",
      "dtype: float64\n",
      "in-store    0.611056\n",
      "region      3.000000\n",
      "dtype: float64\n",
      "in-store    0.5\n",
      "region      4.0\n",
      "dtype: float64\n"
     ]
    },
    {
     "data": {
      "image/png": "[encoded data removed]",
      "text/plain": [
       "<Figure size 432x288 with 1 Axes>"
      ]
     },
     "metadata": {
      "needs_background": "light"
     },
     "output_type": "display_data"
    }
   ],
   "source": [
    "#Boxplot of 'in=store' for each Region.\n",
    "\n",
    "#Slice data for 'in-store' and Region.\n",
    "Rdata = data.iloc[:,[0,4]]\n",
    "\n",
    "# Create datatable of age for each regions\n",
    "North = Rdata.loc[Rdata['region'] == 1]\n",
    "South = Rdata.loc[Rdata['region'] == 2]\n",
    "East = Rdata.loc[Rdata['region'] == 3]\n",
    "West = Rdata.loc[Rdata['region'] == 4]\n",
    "print(East.median()) #check output\n",
    "print(East.mean())\n",
    "print(West.median())  # check output\n",
    "\n",
    "# Create Datatable of just age column for each region for age\n",
    "Nage = North['in-store']\n",
    "Sage = South['in-store']\n",
    "Eage = East['in-store']\n",
    "Wage = West['in-store']\n",
    "\n",
    "# BoxPlot the data\n",
    "RegionAge = [Nage, Sage, Eage, Wage]\n",
    "labels = ['North', 'South', 'East', 'West']\n",
    "fig, ax = plt.subplots()\n",
    "ax.set_title('In-Store / On-line Boxplots by Region (In-Store = 1)')\n",
    "ax.set_ylabel('$', rotation=0, loc='center')\n",
    "ax.boxplot(RegionAge, labels=labels)\n",
    "plt.show()\n",
    "\n"
   ]
  },
  {
   "cell_type": "markdown",
   "id": "0672c34d",
   "metadata": {},
   "source": [
    "# Lesson learned above:  Box plots plot the median and not the mean......answers question why east is showing 1 and not 0.61 "
   ]
  },
  {
   "cell_type": "code",
   "execution_count": 15,
   "id": "8c3f737c",
   "metadata": {},
   "outputs": [
    {
     "name": "stdout",
     "output_type": "stream",
     "text": [
      "          in-store       age     items    amount    region\n",
      "in-store  1.000000 -0.178180 -0.003897 -0.085573 -0.133171\n",
      "age      -0.178180  1.000000  0.000657 -0.282033 -0.235370\n",
      "items    -0.003897  0.000657  1.000000  0.000384 -0.001904\n",
      "amount   -0.085573 -0.282033  0.000384  1.000000  0.403486\n",
      "region   -0.133171 -0.235370 -0.001904  0.403486  1.000000\n",
      "\n",
      "\n",
      "           in-store          age     items         amount      region\n",
      "in-store   0.250003    -1.400071 -0.004017     -30.860425   -0.075019\n",
      "age       -1.400071   246.966189  0.021270   -3196.782841   -4.167305\n",
      "items     -0.004017     0.021270  4.248751       0.570791   -0.004421\n",
      "amount   -30.860425 -3196.782841  0.570791  520221.252295  327.874873\n",
      "region    -0.075019    -4.167305 -0.004421     327.874873    1.269321\n"
     ]
    }
   ],
   "source": [
    "# Correlation of Data\n",
    "corr_mat = data.corr()\n",
    "print(corr_mat)\n",
    "print()\n",
    "print()\n",
    "\n",
    "# Covariance of Data\n",
    "cov_mat = data.cov()\n",
    "print(cov_mat)"
   ]
  },
  {
   "cell_type": "markdown",
   "id": "15079378",
   "metadata": {},
   "source": [
    "# Lessons Learned:  Learn to use statistics (correlation matrix) to guide my analysis.....my past experiences relied on making a bunch of graphs/charts which often took me in circles.....still have tendency to go in circles but stay focused on correlations/statistics help you to stay away from rabbit holes. \n",
    "\n",
    "Looking at Matrix Tables above and Thinking about Amount as the depedent Variable:\n",
    "    Region has largest correlation / coVariance on amount:  \n",
    "    Age is second largest to Amount and is also second largest to Region then in-store purchase:   \n",
    "    In-Store is first to age, second to region: \n",
    "    Items basically has no correlation to anything. \n",
    "   "
   ]
  },
  {
   "cell_type": "code",
   "execution_count": 16,
   "id": "82f767a4",
   "metadata": {},
   "outputs": [
    {
     "data": {
      "text/html": [
       "<div>\n",
       "<style scoped>\n",
       "    .dataframe tbody tr th:only-of-type {\n",
       "        vertical-align: middle;\n",
       "    }\n",
       "\n",
       "    .dataframe tbody tr th {\n",
       "        vertical-align: top;\n",
       "    }\n",
       "\n",
       "    .dataframe thead th {\n",
       "        text-align: right;\n",
       "    }\n",
       "</style>\n",
       "<table border=\"1\" class=\"dataframe\">\n",
       "  <thead>\n",
       "    <tr style=\"text-align: right;\">\n",
       "      <th></th>\n",
       "      <th>region</th>\n",
       "      <th>in-store</th>\n",
       "      <th>age</th>\n",
       "      <th>items</th>\n",
       "      <th>amount</th>\n",
       "    </tr>\n",
       "  </thead>\n",
       "  <tbody>\n",
       "    <tr>\n",
       "      <th>0</th>\n",
       "      <td>1</td>\n",
       "      <td>1.000000</td>\n",
       "      <td>43.704132</td>\n",
       "      <td>4.510283</td>\n",
       "      <td>744.990939</td>\n",
       "    </tr>\n",
       "    <tr>\n",
       "      <th>1</th>\n",
       "      <td>2</td>\n",
       "      <td>0.000000</td>\n",
       "      <td>56.609083</td>\n",
       "      <td>4.512804</td>\n",
       "      <td>252.097741</td>\n",
       "    </tr>\n",
       "    <tr>\n",
       "      <th>2</th>\n",
       "      <td>3</td>\n",
       "      <td>0.611056</td>\n",
       "      <td>45.646944</td>\n",
       "      <td>4.494000</td>\n",
       "      <td>917.969637</td>\n",
       "    </tr>\n",
       "    <tr>\n",
       "      <th>3</th>\n",
       "      <td>4</td>\n",
       "      <td>0.500000</td>\n",
       "      <td>38.752424</td>\n",
       "      <td>4.503771</td>\n",
       "      <td>1283.938357</td>\n",
       "    </tr>\n",
       "  </tbody>\n",
       "</table>\n",
       "</div>"
      ],
      "text/plain": [
       "   region  in-store        age     items       amount\n",
       "0       1  1.000000  43.704132  4.510283   744.990939\n",
       "1       2  0.000000  56.609083  4.512804   252.097741\n",
       "2       3  0.611056  45.646944  4.494000   917.969637\n",
       "3       4  0.500000  38.752424  4.503771  1283.938357"
      ]
     },
     "execution_count": 16,
     "metadata": {},
     "output_type": "execute_result"
    }
   ],
   "source": [
    "# Table for Average Amount Spent / region\n",
    "dtr = data.groupby(['region'], as_index = False).mean()   # \"Index = False\" flattens data stack\n",
    "dtr"
   ]
  },
  {
   "cell_type": "code",
   "execution_count": 17,
   "id": "00846c0f",
   "metadata": {},
   "outputs": [
    {
     "data": {
      "image/png": "[encoded data removed]",
      "text/plain": [
       "<Figure size 432x288 with 1 Axes>"
      ]
     },
     "metadata": {
      "needs_background": "light"
     },
     "output_type": "display_data"
    }
   ],
   "source": [
    "   # Bar Graph of Amount/transaction vs region\n",
    "import matplotlib.pyplot as plt\n",
    "labels = ['North', 'South', 'East', 'West']\n",
    "x=dtr['region']\n",
    "y=dtr['amount']\n",
    "plt.bar(x,y, 0.5, color = 'b')\n",
    "plt.xticks([1,2,3,4],['North', 'South', 'East', 'West'], fontsize=13)\n",
    "#plt.xlabel('Region', fontsize=12)\n",
    "plt.ylabel('$', rotation=0, fontsize = 13)\n",
    "plt.title('Amount Spent per Transaction ($)', fontweight ='bold', fontsize=15)\n",
    "plt.show()"
   ]
  },
  {
   "cell_type": "markdown",
   "id": "0e994818",
   "metadata": {},
   "source": [
    "# To answer question 1 part 2: Which regions spend most/least?\n",
    "       - Total spend by "
   ]
  },
  {
   "cell_type": "code",
   "execution_count": 18,
   "id": "cb400996",
   "metadata": {},
   "outputs": [
    {
     "data": {
      "text/html": [
       "<div>\n",
       "<style scoped>\n",
       "    .dataframe tbody tr th:only-of-type {\n",
       "        vertical-align: middle;\n",
       "    }\n",
       "\n",
       "    .dataframe tbody tr th {\n",
       "        vertical-align: top;\n",
       "    }\n",
       "\n",
       "    .dataframe thead th {\n",
       "        text-align: right;\n",
       "    }\n",
       "</style>\n",
       "<table border=\"1\" class=\"dataframe\">\n",
       "  <thead>\n",
       "    <tr style=\"text-align: right;\">\n",
       "      <th></th>\n",
       "      <th>region</th>\n",
       "      <th>in-store</th>\n",
       "      <th>age</th>\n",
       "      <th>items</th>\n",
       "      <th>amount</th>\n",
       "    </tr>\n",
       "  </thead>\n",
       "  <tbody>\n",
       "    <tr>\n",
       "      <th>0</th>\n",
       "      <td>1</td>\n",
       "      <td>15997</td>\n",
       "      <td>699135</td>\n",
       "      <td>72151</td>\n",
       "      <td>1.191762e+07</td>\n",
       "    </tr>\n",
       "    <tr>\n",
       "      <th>1</th>\n",
       "      <td>2</td>\n",
       "      <td>0</td>\n",
       "      <td>1131842</td>\n",
       "      <td>90229</td>\n",
       "      <td>5.040442e+06</td>\n",
       "    </tr>\n",
       "    <tr>\n",
       "      <th>2</th>\n",
       "      <td>3</td>\n",
       "      <td>10999</td>\n",
       "      <td>821645</td>\n",
       "      <td>80892</td>\n",
       "      <td>1.652345e+07</td>\n",
       "    </tr>\n",
       "    <tr>\n",
       "      <th>3</th>\n",
       "      <td>4</td>\n",
       "      <td>12994</td>\n",
       "      <td>1007098</td>\n",
       "      <td>117044</td>\n",
       "      <td>3.336699e+07</td>\n",
       "    </tr>\n",
       "  </tbody>\n",
       "</table>\n",
       "</div>"
      ],
      "text/plain": [
       "   region  in-store      age   items        amount\n",
       "0       1     15997   699135   72151  1.191762e+07\n",
       "1       2         0  1131842   90229  5.040442e+06\n",
       "2       3     10999   821645   80892  1.652345e+07\n",
       "3       4     12994  1007098  117044  3.336699e+07"
      ]
     },
     "execution_count": 18,
     "metadata": {},
     "output_type": "execute_result"
    }
   ],
   "source": [
    "# Table for Total Amount spent / region\n",
    "tdr = data.groupby(['region'], as_index=False).sum()\n",
    "tdr.dtypes\n",
    "tdr"
   ]
  },
  {
   "cell_type": "code",
   "execution_count": 19,
   "id": "4b4b092c",
   "metadata": {},
   "outputs": [
    {
     "data": {
      "image/png": "[encoded data removed]",
      "text/plain": [
       "<Figure size 432x288 with 1 Axes>"
      ]
     },
     "metadata": {
      "needs_background": "light"
     },
     "output_type": "display_data"
    }
   ],
   "source": [
    "# Bar Graph of Total Sales / region\n",
    "import matplotlib.pyplot as plt\n",
    "x = tdr['region']\n",
    "y = tdr['amount']\n",
    "plt.bar(x,y, 0.5, color = 'b')\n",
    "plt.xticks([1,2,3,4],['North', 'South', 'East', 'West'], fontsize=13)\n",
    "plt.ylabel('$(M)', loc='center', rotation=0, fontsize=12)\n",
    "plt.title('Total Sales', fontweight = 'bold', fontsize=15)\n",
    "plt.show()"
   ]
  },
  {
   "cell_type": "code",
   "execution_count": 20,
   "id": "d736d26a",
   "metadata": {},
   "outputs": [
    {
     "name": "stdout",
     "output_type": "stream",
     "text": [
      "   region  in-store      age   items        amount  region  Total_Trans  \\\n",
      "0       1     15997   699135   72151  1.191762e+07       1        15997   \n",
      "1       2         0  1131842   90229  5.040442e+06       2        19994   \n",
      "2       3     10999   821645   80892  1.652345e+07       3        18000   \n",
      "3       4     12994  1007098  117044  3.336699e+07       4        25988   \n",
      "\n",
      "     age  items  amount  on-line  \n",
      "0  15997  15997   15997        0  \n",
      "1  19994  19994   19994    19994  \n",
      "2  18000  18000   18000     7001  \n",
      "3  25988  25988   25988    12994  \n",
      "0        0\n",
      "1    19994\n",
      "2     7001\n",
      "3    12994\n",
      "Name: on-line, dtype: int64\n"
     ]
    },
    {
     "data": {
      "image/png": "[encoded data removed]",
      "text/plain": [
       "<Figure size 576x432 with 1 Axes>"
      ]
     },
     "metadata": {
      "needs_background": "light"
     },
     "output_type": "display_data"
    }
   ],
   "source": [
    "# Total Transactions / region broken down by On-line and In-Store\n",
    "\n",
    "# Create datatable 'counting all transactions by region; rename 'in-store' as 'Total_Transactions'\n",
    "count = data.groupby(['region'], as_index=False).count()\n",
    "count.rename(columns = {'in-store':'Total_Trans'}, inplace=True)\n",
    "# print(count)\n",
    "\n",
    "# Combine with dtr which has total in-store trasactions (Sum); create \"on-line\" column by subratcting \"in-store\" from Total_Trans\"\n",
    "online = pd.concat([tdr, count], axis=1)\n",
    "online['on-line'] = online['Total_Trans'] - online['in-store']\n",
    "print(online)\n",
    "\n",
    "# set width of bar\n",
    "barWidth = 0.35\n",
    "fig = plt.subplots(figsize =(8, 6))\n",
    " \n",
    "# set height of bar\n",
    "oline = online['on-line']\n",
    "istore = online['in-store']\n",
    "print(oline)\n",
    " \n",
    "# Set position of bar on X axis\n",
    "br1 = np.arange(len(oline))\n",
    "br2 = [x + barWidth for x in br1]\n",
    " \n",
    "# Make the plot\n",
    "plt.bar(br1, oline, color ='lightblue', width = barWidth,\n",
    "        edgecolor ='grey', label ='On-Line')\n",
    "plt.bar(br2, istore, color ='b', width = barWidth,\n",
    "        edgecolor ='grey', label ='In-Store')\n",
    " \n",
    "# Adding Xticks\n",
    "plt.title('Transactions by Region', fontweight = 'bold', fontsize = 17)\n",
    "plt.xlabel('Region', fontsize = 14)\n",
    "plt.ylabel('# Transactions', fontsize = 14)\n",
    "plt.xticks([r + barWidth/2 for r in range(len(oline))],\n",
    "        ['North', 'South', 'East', 'West'], fontsize=12)\n",
    "\n",
    "plt.legend()\n",
    "plt.show()\n",
    "\n"
   ]
  },
  {
   "cell_type": "code",
   "execution_count": 21,
   "id": "7dde810d",
   "metadata": {},
   "outputs": [
    {
     "data": {
      "text/html": [
       "<div>\n",
       "<style scoped>\n",
       "    .dataframe tbody tr th:only-of-type {\n",
       "        vertical-align: middle;\n",
       "    }\n",
       "\n",
       "    .dataframe tbody tr th {\n",
       "        vertical-align: top;\n",
       "    }\n",
       "\n",
       "    .dataframe thead th {\n",
       "        text-align: right;\n",
       "    }\n",
       "</style>\n",
       "<table border=\"1\" class=\"dataframe\">\n",
       "  <thead>\n",
       "    <tr style=\"text-align: right;\">\n",
       "      <th></th>\n",
       "      <th>region</th>\n",
       "      <th>in-store</th>\n",
       "      <th>age</th>\n",
       "      <th>items</th>\n",
       "      <th>Total_Sales</th>\n",
       "    </tr>\n",
       "  </thead>\n",
       "  <tbody>\n",
       "    <tr>\n",
       "      <th>0</th>\n",
       "      <td>1</td>\n",
       "      <td>15997</td>\n",
       "      <td>699135</td>\n",
       "      <td>72151</td>\n",
       "      <td>1.191762e+07</td>\n",
       "    </tr>\n",
       "    <tr>\n",
       "      <th>1</th>\n",
       "      <td>2</td>\n",
       "      <td>0</td>\n",
       "      <td>1131842</td>\n",
       "      <td>90229</td>\n",
       "      <td>5.040442e+06</td>\n",
       "    </tr>\n",
       "    <tr>\n",
       "      <th>2</th>\n",
       "      <td>3</td>\n",
       "      <td>10999</td>\n",
       "      <td>821645</td>\n",
       "      <td>80892</td>\n",
       "      <td>1.652345e+07</td>\n",
       "    </tr>\n",
       "    <tr>\n",
       "      <th>3</th>\n",
       "      <td>4</td>\n",
       "      <td>12994</td>\n",
       "      <td>1007098</td>\n",
       "      <td>117044</td>\n",
       "      <td>3.336699e+07</td>\n",
       "    </tr>\n",
       "  </tbody>\n",
       "</table>\n",
       "</div>"
      ],
      "text/plain": [
       "   region  in-store      age   items   Total_Sales\n",
       "0       1     15997   699135   72151  1.191762e+07\n",
       "1       2         0  1131842   90229  5.040442e+06\n",
       "2       3     10999   821645   80892  1.652345e+07\n",
       "3       4     12994  1007098  117044  3.336699e+07"
      ]
     },
     "execution_count": 21,
     "metadata": {},
     "output_type": "execute_result"
    }
   ],
   "source": [
    "# Total Transactions / region broken down by On-line and In-Store\n",
    "\n",
    "# Create datatable 'counting all transactions by region; rename 'in-store' as 'Total_Transactions'\n",
    "sales = data.groupby(['region'], as_index=False).sum()\n",
    "sales.rename(columns = {'amount':'Total_Sales'}, inplace=True)\n",
    "sales\n",
    "\n",
    "# # Combine with dtr which has total in-store trasactions (Sum); create \"on-line\" column by subratcting \"in-store\" from Total_Trans\"\n",
    "# online = pd.concat([tdr, count], axis=1)\n",
    "# online['on-line'] = online['Total_Trans'] - online['in-store']\n",
    "# online\n",
    "\n",
    "# # set width of bar\n",
    "# barWidth = 0.35\n",
    "# fig = plt.subplots(figsize =(8, 6))\n",
    " \n",
    "# # set height of bar\n",
    "# oline = online['on-line']\n",
    "# istore = online['in-store']\n",
    "# # IT = [12, 30, 1, 8, 22]\n",
    "# # ECE = [28, 6, 16, 5, 10]\n",
    "# # CSE = [29, 3, 24, 25, 17]\n",
    " \n",
    "# # Set position of bar on X axis\n",
    "# br1 = np.arange(len(oline))\n",
    "# br2 = [x + barWidth for x in br1]\n",
    " \n",
    "# # Make the plot\n",
    "# plt.bar(br1, oline, color ='lightblue', width = barWidth,\n",
    "#         edgecolor ='grey', label ='On-Line')\n",
    "# plt.bar(br2, istore, color ='b', width = barWidth,\n",
    "#         edgecolor ='grey', label ='In-Store')\n",
    " \n",
    "# # Adding Xticks\n",
    "# plt.title('On-Line vs In-Store by Region', fontweight = 'bold', fontsize = 16)\n",
    "# plt.xlabel('Region', fontsize = 14)\n",
    "# plt.ylabel('# Transactions', fontsize = 14)\n",
    "# plt.xticks([r + barWidth/2 for r in range(len(oline))],\n",
    "#         ['North', 'South', 'East', 'West'])\n",
    "\n",
    "# # for i, v in enumerate(y)\n",
    "# # plt.x.text()\n",
    "\n",
    "\n",
    "\n",
    "# # for i, v in enumerate(y):\n",
    "# #     ax.text(v + 3, i + .25, str(v),\n",
    "# #             color = 'blue', fontweight = 'bold')\n",
    "\n",
    "# plt.legend()\n",
    "# plt.show()\n",
    "\n"
   ]
  },
  {
   "cell_type": "code",
   "execution_count": 22,
   "id": "2d661bd9",
   "metadata": {},
   "outputs": [
    {
     "data": {
      "text/html": [
       "<div>\n",
       "<style scoped>\n",
       "    .dataframe tbody tr th:only-of-type {\n",
       "        vertical-align: middle;\n",
       "    }\n",
       "\n",
       "    .dataframe tbody tr th {\n",
       "        vertical-align: top;\n",
       "    }\n",
       "\n",
       "    .dataframe thead th {\n",
       "        text-align: right;\n",
       "    }\n",
       "</style>\n",
       "<table border=\"1\" class=\"dataframe\">\n",
       "  <thead>\n",
       "    <tr style=\"text-align: right;\">\n",
       "      <th></th>\n",
       "      <th>region</th>\n",
       "      <th>items</th>\n",
       "      <th>in-store</th>\n",
       "      <th>age</th>\n",
       "      <th>amount</th>\n",
       "    </tr>\n",
       "  </thead>\n",
       "  <tbody>\n",
       "    <tr>\n",
       "      <th>0</th>\n",
       "      <td>1</td>\n",
       "      <td>1</td>\n",
       "      <td>1.000000</td>\n",
       "      <td>43.303797</td>\n",
       "      <td>751.450329</td>\n",
       "    </tr>\n",
       "    <tr>\n",
       "      <th>1</th>\n",
       "      <td>1</td>\n",
       "      <td>2</td>\n",
       "      <td>1.000000</td>\n",
       "      <td>43.449797</td>\n",
       "      <td>766.924871</td>\n",
       "    </tr>\n",
       "    <tr>\n",
       "      <th>2</th>\n",
       "      <td>1</td>\n",
       "      <td>3</td>\n",
       "      <td>1.000000</td>\n",
       "      <td>44.062176</td>\n",
       "      <td>743.810869</td>\n",
       "    </tr>\n",
       "    <tr>\n",
       "      <th>3</th>\n",
       "      <td>1</td>\n",
       "      <td>4</td>\n",
       "      <td>1.000000</td>\n",
       "      <td>43.686192</td>\n",
       "      <td>727.300536</td>\n",
       "    </tr>\n",
       "    <tr>\n",
       "      <th>4</th>\n",
       "      <td>1</td>\n",
       "      <td>5</td>\n",
       "      <td>1.000000</td>\n",
       "      <td>43.812946</td>\n",
       "      <td>745.737906</td>\n",
       "    </tr>\n",
       "    <tr>\n",
       "      <th>5</th>\n",
       "      <td>1</td>\n",
       "      <td>6</td>\n",
       "      <td>1.000000</td>\n",
       "      <td>43.456743</td>\n",
       "      <td>740.033224</td>\n",
       "    </tr>\n",
       "    <tr>\n",
       "      <th>6</th>\n",
       "      <td>1</td>\n",
       "      <td>7</td>\n",
       "      <td>1.000000</td>\n",
       "      <td>43.993122</td>\n",
       "      <td>737.791975</td>\n",
       "    </tr>\n",
       "    <tr>\n",
       "      <th>7</th>\n",
       "      <td>1</td>\n",
       "      <td>8</td>\n",
       "      <td>1.000000</td>\n",
       "      <td>43.645570</td>\n",
       "      <td>757.540969</td>\n",
       "    </tr>\n",
       "    <tr>\n",
       "      <th>8</th>\n",
       "      <td>2</td>\n",
       "      <td>1</td>\n",
       "      <td>0.000000</td>\n",
       "      <td>56.921637</td>\n",
       "      <td>257.587746</td>\n",
       "    </tr>\n",
       "    <tr>\n",
       "      <th>9</th>\n",
       "      <td>2</td>\n",
       "      <td>2</td>\n",
       "      <td>0.000000</td>\n",
       "      <td>56.530764</td>\n",
       "      <td>250.012124</td>\n",
       "    </tr>\n",
       "    <tr>\n",
       "      <th>10</th>\n",
       "      <td>2</td>\n",
       "      <td>3</td>\n",
       "      <td>0.000000</td>\n",
       "      <td>56.023563</td>\n",
       "      <td>252.182018</td>\n",
       "    </tr>\n",
       "    <tr>\n",
       "      <th>11</th>\n",
       "      <td>2</td>\n",
       "      <td>4</td>\n",
       "      <td>0.000000</td>\n",
       "      <td>56.544448</td>\n",
       "      <td>249.626762</td>\n",
       "    </tr>\n",
       "    <tr>\n",
       "      <th>12</th>\n",
       "      <td>2</td>\n",
       "      <td>5</td>\n",
       "      <td>0.000000</td>\n",
       "      <td>56.963954</td>\n",
       "      <td>252.399170</td>\n",
       "    </tr>\n",
       "    <tr>\n",
       "      <th>13</th>\n",
       "      <td>2</td>\n",
       "      <td>6</td>\n",
       "      <td>0.000000</td>\n",
       "      <td>57.182699</td>\n",
       "      <td>254.961019</td>\n",
       "    </tr>\n",
       "    <tr>\n",
       "      <th>14</th>\n",
       "      <td>2</td>\n",
       "      <td>7</td>\n",
       "      <td>0.000000</td>\n",
       "      <td>56.299725</td>\n",
       "      <td>251.735042</td>\n",
       "    </tr>\n",
       "    <tr>\n",
       "      <th>15</th>\n",
       "      <td>2</td>\n",
       "      <td>8</td>\n",
       "      <td>0.000000</td>\n",
       "      <td>56.500697</td>\n",
       "      <td>249.882689</td>\n",
       "    </tr>\n",
       "    <tr>\n",
       "      <th>16</th>\n",
       "      <td>3</td>\n",
       "      <td>1</td>\n",
       "      <td>0.624603</td>\n",
       "      <td>46.388889</td>\n",
       "      <td>894.239667</td>\n",
       "    </tr>\n",
       "    <tr>\n",
       "      <th>17</th>\n",
       "      <td>3</td>\n",
       "      <td>2</td>\n",
       "      <td>0.602873</td>\n",
       "      <td>45.714286</td>\n",
       "      <td>931.767999</td>\n",
       "    </tr>\n",
       "    <tr>\n",
       "      <th>18</th>\n",
       "      <td>3</td>\n",
       "      <td>3</td>\n",
       "      <td>0.609080</td>\n",
       "      <td>45.382070</td>\n",
       "      <td>916.421853</td>\n",
       "    </tr>\n",
       "    <tr>\n",
       "      <th>19</th>\n",
       "      <td>3</td>\n",
       "      <td>4</td>\n",
       "      <td>0.609346</td>\n",
       "      <td>45.312897</td>\n",
       "      <td>935.009959</td>\n",
       "    </tr>\n",
       "    <tr>\n",
       "      <th>20</th>\n",
       "      <td>3</td>\n",
       "      <td>5</td>\n",
       "      <td>0.621966</td>\n",
       "      <td>45.360923</td>\n",
       "      <td>911.578511</td>\n",
       "    </tr>\n",
       "    <tr>\n",
       "      <th>21</th>\n",
       "      <td>3</td>\n",
       "      <td>6</td>\n",
       "      <td>0.616700</td>\n",
       "      <td>45.728429</td>\n",
       "      <td>903.035816</td>\n",
       "    </tr>\n",
       "    <tr>\n",
       "      <th>22</th>\n",
       "      <td>3</td>\n",
       "      <td>7</td>\n",
       "      <td>0.608255</td>\n",
       "      <td>46.008567</td>\n",
       "      <td>910.417209</td>\n",
       "    </tr>\n",
       "    <tr>\n",
       "      <th>23</th>\n",
       "      <td>3</td>\n",
       "      <td>8</td>\n",
       "      <td>0.595054</td>\n",
       "      <td>45.692427</td>\n",
       "      <td>937.914856</td>\n",
       "    </tr>\n",
       "    <tr>\n",
       "      <th>24</th>\n",
       "      <td>4</td>\n",
       "      <td>1</td>\n",
       "      <td>0.510841</td>\n",
       "      <td>38.894236</td>\n",
       "      <td>1255.778428</td>\n",
       "    </tr>\n",
       "    <tr>\n",
       "      <th>25</th>\n",
       "      <td>4</td>\n",
       "      <td>2</td>\n",
       "      <td>0.500410</td>\n",
       "      <td>38.761410</td>\n",
       "      <td>1297.199268</td>\n",
       "    </tr>\n",
       "    <tr>\n",
       "      <th>26</th>\n",
       "      <td>4</td>\n",
       "      <td>3</td>\n",
       "      <td>0.503979</td>\n",
       "      <td>38.885146</td>\n",
       "      <td>1272.761661</td>\n",
       "    </tr>\n",
       "    <tr>\n",
       "      <th>27</th>\n",
       "      <td>4</td>\n",
       "      <td>4</td>\n",
       "      <td>0.494777</td>\n",
       "      <td>38.727323</td>\n",
       "      <td>1280.247027</td>\n",
       "    </tr>\n",
       "    <tr>\n",
       "      <th>28</th>\n",
       "      <td>4</td>\n",
       "      <td>5</td>\n",
       "      <td>0.507069</td>\n",
       "      <td>38.709625</td>\n",
       "      <td>1277.747343</td>\n",
       "    </tr>\n",
       "    <tr>\n",
       "      <th>29</th>\n",
       "      <td>4</td>\n",
       "      <td>6</td>\n",
       "      <td>0.502929</td>\n",
       "      <td>38.920394</td>\n",
       "      <td>1296.386021</td>\n",
       "    </tr>\n",
       "    <tr>\n",
       "      <th>30</th>\n",
       "      <td>4</td>\n",
       "      <td>7</td>\n",
       "      <td>0.489116</td>\n",
       "      <td>38.578877</td>\n",
       "      <td>1280.238420</td>\n",
       "    </tr>\n",
       "    <tr>\n",
       "      <th>31</th>\n",
       "      <td>4</td>\n",
       "      <td>8</td>\n",
       "      <td>0.492267</td>\n",
       "      <td>38.465600</td>\n",
       "      <td>1310.646915</td>\n",
       "    </tr>\n",
       "  </tbody>\n",
       "</table>\n",
       "</div>"
      ],
      "text/plain": [
       "    region  items  in-store        age       amount\n",
       "0        1      1  1.000000  43.303797   751.450329\n",
       "1        1      2  1.000000  43.449797   766.924871\n",
       "2        1      3  1.000000  44.062176   743.810869\n",
       "3        1      4  1.000000  43.686192   727.300536\n",
       "4        1      5  1.000000  43.812946   745.737906\n",
       "5        1      6  1.000000  43.456743   740.033224\n",
       "6        1      7  1.000000  43.993122   737.791975\n",
       "7        1      8  1.000000  43.645570   757.540969\n",
       "8        2      1  0.000000  56.921637   257.587746\n",
       "9        2      2  0.000000  56.530764   250.012124\n",
       "10       2      3  0.000000  56.023563   252.182018\n",
       "11       2      4  0.000000  56.544448   249.626762\n",
       "12       2      5  0.000000  56.963954   252.399170\n",
       "13       2      6  0.000000  57.182699   254.961019\n",
       "14       2      7  0.000000  56.299725   251.735042\n",
       "15       2      8  0.000000  56.500697   249.882689\n",
       "16       3      1  0.624603  46.388889   894.239667\n",
       "17       3      2  0.602873  45.714286   931.767999\n",
       "18       3      3  0.609080  45.382070   916.421853\n",
       "19       3      4  0.609346  45.312897   935.009959\n",
       "20       3      5  0.621966  45.360923   911.578511\n",
       "21       3      6  0.616700  45.728429   903.035816\n",
       "22       3      7  0.608255  46.008567   910.417209\n",
       "23       3      8  0.595054  45.692427   937.914856\n",
       "24       4      1  0.510841  38.894236  1255.778428\n",
       "25       4      2  0.500410  38.761410  1297.199268\n",
       "26       4      3  0.503979  38.885146  1272.761661\n",
       "27       4      4  0.494777  38.727323  1280.247027\n",
       "28       4      5  0.507069  38.709625  1277.747343\n",
       "29       4      6  0.502929  38.920394  1296.386021\n",
       "30       4      7  0.489116  38.578877  1280.238420\n",
       "31       4      8  0.492267  38.465600  1310.646915"
      ]
     },
     "execution_count": 22,
     "metadata": {},
     "output_type": "execute_result"
    }
   ],
   "source": [
    "# Amount Spent / Number of Items Purchased\n",
    "spitems = data.groupby(['region','items'], as_index=False).mean()\n",
    "# print(spitems.dtypes)\n",
    "\n",
    "spitems.to_csv('Regional_Sales_Patterns_items.csv', header=True, index=False, encoding='utf-8')\n",
    "spitems"
   ]
  },
  {
   "cell_type": "code",
   "execution_count": 23,
   "id": "b7cd1da9",
   "metadata": {},
   "outputs": [
    {
     "data": {
      "text/plain": [
       "<function matplotlib.pyplot.show(close=None, block=None)>"
      ]
     },
     "execution_count": 23,
     "metadata": {},
     "output_type": "execute_result"
    },
    {
     "data": {
      "image/png": "[encoded data removed]",
      "text/plain": [
       "<Figure size 432x288 with 1 Axes>"
      ]
     },
     "metadata": {
      "needs_background": "light"
     },
     "output_type": "display_data"
    }
   ],
   "source": [
    "import matplotlib.pyplot as plt\n",
    "\n",
    "x = spitems['items']\n",
    "y = spitems['amount']\n",
    "\n",
    "plt.bar(x,y)\n",
    "plt.ylim(600,900)\n",
    "# plt.axhline(y= 835.8, color='grey', linestyle = '--')\n",
    "plt.xlabel('Items',fontsize = 13)\n",
    "plt.ylabel('$', rotation=0, fontsize = 14)\n",
    "plt.title('Avg. Amount Spent / Items Purchased', fontweight = 'bold', fontsize=15)\n",
    "\n",
    "# plt.annotate(\"Overall Avg\",(4,836),(4.25,845), arrowprops ={})\n",
    "\n",
    "\n",
    "plt.show"
   ]
  },
  {
   "cell_type": "markdown",
   "id": "a8392598",
   "metadata": {},
   "source": [
    "# Now to focus on e-commerce:  After reading letter more closely, realize this is e-commerce manager and request is focus on e-commerce"
   ]
  },
  {
   "cell_type": "code",
   "execution_count": 24,
   "id": "f1a9c9df",
   "metadata": {},
   "outputs": [
    {
     "name": "stdout",
     "output_type": "stream",
     "text": [
      "       instore  age  items   amount  region\n",
      "2            1   45      3  1525.70       4\n",
      "3            1   46      3   715.25       3\n",
      "4            1   33      4  1937.50       1\n",
      "7            1   66      5   819.98       3\n",
      "8            1   51      5   908.31       1\n",
      "...        ...  ...    ...      ...     ...\n",
      "79986        1   43      8   540.90       4\n",
      "79993        1   47      3   337.54       3\n",
      "79995        1   71      3   558.82       1\n",
      "79998        1   49      4   335.32       1\n",
      "79999        1   30      1   527.12       3\n",
      "\n",
      "[39990 rows x 5 columns]\n"
     ]
    },
    {
     "data": {
      "text/html": [
       "<div>\n",
       "<style scoped>\n",
       "    .dataframe tbody tr th:only-of-type {\n",
       "        vertical-align: middle;\n",
       "    }\n",
       "\n",
       "    .dataframe tbody tr th {\n",
       "        vertical-align: top;\n",
       "    }\n",
       "\n",
       "    .dataframe thead th {\n",
       "        text-align: right;\n",
       "    }\n",
       "</style>\n",
       "<table border=\"1\" class=\"dataframe\">\n",
       "  <thead>\n",
       "    <tr style=\"text-align: right;\">\n",
       "      <th></th>\n",
       "      <th>online</th>\n",
       "      <th>age</th>\n",
       "      <th>items</th>\n",
       "      <th>amount</th>\n",
       "      <th>region</th>\n",
       "    </tr>\n",
       "  </thead>\n",
       "  <tbody>\n",
       "    <tr>\n",
       "      <th>0</th>\n",
       "      <td>0</td>\n",
       "      <td>37</td>\n",
       "      <td>4</td>\n",
       "      <td>281.0300</td>\n",
       "      <td>2</td>\n",
       "    </tr>\n",
       "    <tr>\n",
       "      <th>1</th>\n",
       "      <td>0</td>\n",
       "      <td>35</td>\n",
       "      <td>2</td>\n",
       "      <td>219.5100</td>\n",
       "      <td>2</td>\n",
       "    </tr>\n",
       "    <tr>\n",
       "      <th>5</th>\n",
       "      <td>0</td>\n",
       "      <td>24</td>\n",
       "      <td>3</td>\n",
       "      <td>1314.2000</td>\n",
       "      <td>4</td>\n",
       "    </tr>\n",
       "    <tr>\n",
       "      <th>6</th>\n",
       "      <td>0</td>\n",
       "      <td>43</td>\n",
       "      <td>6</td>\n",
       "      <td>8.5472</td>\n",
       "      <td>2</td>\n",
       "    </tr>\n",
       "    <tr>\n",
       "      <th>12</th>\n",
       "      <td>0</td>\n",
       "      <td>32</td>\n",
       "      <td>2</td>\n",
       "      <td>58.9970</td>\n",
       "      <td>2</td>\n",
       "    </tr>\n",
       "    <tr>\n",
       "      <th>...</th>\n",
       "      <td>...</td>\n",
       "      <td>...</td>\n",
       "      <td>...</td>\n",
       "      <td>...</td>\n",
       "      <td>...</td>\n",
       "    </tr>\n",
       "    <tr>\n",
       "      <th>79991</th>\n",
       "      <td>0</td>\n",
       "      <td>37</td>\n",
       "      <td>4</td>\n",
       "      <td>658.0000</td>\n",
       "      <td>4</td>\n",
       "    </tr>\n",
       "    <tr>\n",
       "      <th>79992</th>\n",
       "      <td>0</td>\n",
       "      <td>77</td>\n",
       "      <td>4</td>\n",
       "      <td>170.0200</td>\n",
       "      <td>2</td>\n",
       "    </tr>\n",
       "    <tr>\n",
       "      <th>79994</th>\n",
       "      <td>0</td>\n",
       "      <td>22</td>\n",
       "      <td>1</td>\n",
       "      <td>698.5400</td>\n",
       "      <td>4</td>\n",
       "    </tr>\n",
       "    <tr>\n",
       "      <th>79996</th>\n",
       "      <td>0</td>\n",
       "      <td>59</td>\n",
       "      <td>7</td>\n",
       "      <td>1932.0000</td>\n",
       "      <td>3</td>\n",
       "    </tr>\n",
       "    <tr>\n",
       "      <th>79997</th>\n",
       "      <td>0</td>\n",
       "      <td>54</td>\n",
       "      <td>1</td>\n",
       "      <td>414.1600</td>\n",
       "      <td>2</td>\n",
       "    </tr>\n",
       "  </tbody>\n",
       "</table>\n",
       "<p>39989 rows × 5 columns</p>\n",
       "</div>"
      ],
      "text/plain": [
       "       online  age  items     amount  region\n",
       "0           0   37      4   281.0300       2\n",
       "1           0   35      2   219.5100       2\n",
       "5           0   24      3  1314.2000       4\n",
       "6           0   43      6     8.5472       2\n",
       "12          0   32      2    58.9970       2\n",
       "...       ...  ...    ...        ...     ...\n",
       "79991       0   37      4   658.0000       4\n",
       "79992       0   77      4   170.0200       2\n",
       "79994       0   22      1   698.5400       4\n",
       "79996       0   59      7  1932.0000       3\n",
       "79997       0   54      1   414.1600       2\n",
       "\n",
       "[39989 rows x 5 columns]"
      ]
     },
     "execution_count": 24,
     "metadata": {},
     "output_type": "execute_result"
    }
   ],
   "source": [
    "# Correlation/Co-Variance analysis\n",
    "\n",
    "# Creatate datatables  for online and instore sales.\n",
    "datainstore = data.copy()\n",
    "dataonline = data.copy()\n",
    "datainstore.rename(columns={'in-store':'instore'}, inplace=True)\n",
    "dataonline.rename(columns={'in-store':'online'}, inplace=True)\n",
    "# print(datainstore)\n",
    "# print(dataonline)\n",
    "# print(data)\n",
    "\n",
    "datainstore = datainstore.query('instore == 1')\n",
    "dataonline = dataonline.query('online == 0')\n",
    "print(datainstore)\n",
    "dataonline\n",
    "\n"
   ]
  },
  {
   "cell_type": "code",
   "execution_count": 25,
   "id": "e8cd4f55",
   "metadata": {},
   "outputs": [
    {
     "name": "stdout",
     "output_type": "stream",
     "text": [
      "In-Store Data\n",
      "\n",
      "         instore       age     items    amount    region\n",
      "instore      NaN       NaN       NaN       NaN       NaN\n",
      "age          NaN  1.000000  0.000545 -0.215891 -0.140343\n",
      "items        NaN  0.000545  1.000000 -0.004432 -0.005095\n",
      "amount       NaN -0.215891 -0.004432  1.000000  0.157875\n",
      "region       NaN -0.140343 -0.005095  0.157875  1.000000\n",
      "\n",
      "\n",
      "         instore          age     items         amount      region\n",
      "instore      0.0     0.000000  0.000000       0.000000    0.000000\n",
      "age          0.0   192.590185  0.015559   -1522.355157   -2.538914\n",
      "items        0.0     0.015559  4.227242      -4.630400   -0.013657\n",
      "amount       0.0 -1522.355157 -4.630400  258184.429875  104.572871\n",
      "region       0.0    -2.538914 -0.013657     104.572871    1.699336\n",
      "\n",
      "\n",
      "\n",
      "On-line Data\n",
      "\n",
      "        online       age     items    amount    region\n",
      "online     NaN       NaN       NaN       NaN       NaN\n",
      "age        NaN  1.000000 -0.000516 -0.350699 -0.440543\n",
      "items      NaN -0.000516  1.000000  0.002628  0.001306\n",
      "amount     NaN -0.350699  0.002628  1.000000  0.679061\n",
      "region     NaN -0.440543  0.001306  0.679061  1.000000\n",
      "\n",
      "\n",
      "        online          age     items         amount      region\n",
      "online     0.0     0.000000  0.000000       0.000000    0.000000\n",
      "age        0.0   285.667942 -0.018009   -5216.990949   -6.636101\n",
      "items      0.0    -0.018009  4.270239       4.780443    0.002405\n",
      "amount     0.0 -5216.990949  4.780443  774658.615362  532.669580\n",
      "region     0.0    -6.636101  0.002405     532.669580    0.794305\n"
     ]
    }
   ],
   "source": [
    "# Statistics of Online and Instore Datatables\n",
    "print('In-Store Data')\n",
    "print()\n",
    "corr_mat = datainstore.corr()\n",
    "print(corr_mat)\n",
    "print()\n",
    "print()\n",
    "cov_mat = datainstore.cov()\n",
    "print(cov_mat)\n",
    "print()\n",
    "print()\n",
    "print()\n",
    "print('On-line Data')\n",
    "print()\n",
    "corr_mat = dataonline.corr()\n",
    "print(corr_mat)\n",
    "print()\n",
    "print()\n",
    "cov_mat = dataonline.cov()\n",
    "print(cov_mat)\n",
    "\n",
    "\n"
   ]
  },
  {
   "cell_type": "markdown",
   "id": "629036c2",
   "metadata": {},
   "source": [
    "# online sales amount heaviest influenced by Region and Age.  Instore amount less so. "
   ]
  },
  {
   "cell_type": "code",
   "execution_count": 26,
   "id": "b484a43e",
   "metadata": {},
   "outputs": [
    {
     "name": "stdout",
     "output_type": "stream",
     "text": [
      "\n"
     ]
    },
    {
     "data": {
      "image/png": "[encoded data removed]",
      "text/plain": [
       "<Figure size 432x288 with 1 Axes>"
      ]
     },
     "metadata": {
      "needs_background": "light"
     },
     "output_type": "display_data"
    },
    {
     "name": "stdout",
     "output_type": "stream",
     "text": [
      "\n",
      "\n"
     ]
    },
    {
     "data": {
      "image/png": "[encoded data removed]",
      "text/plain": [
       "<Figure size 432x288 with 1 Axes>"
      ]
     },
     "metadata": {
      "needs_background": "light"
     },
     "output_type": "display_data"
    }
   ],
   "source": [
    "# histoplot age of On-line and In-Store\n",
    "\n",
    "\n",
    "plt.hist(dataonline['age'], bins=20)\n",
    "plt.title('On-line Age Transactions Histogram')\n",
    "plt.xlabel('Age')\n",
    "print()\n",
    "plt.show()\n",
    "print()\n",
    "print()\n",
    "\n",
    "\n",
    "plt.hist(datainstore['age'], bins=20)\n",
    "plt.title('In-Store Age Transactions Histogram')\n",
    "plt.xlabel('Age')\n",
    "plt.show()\n"
   ]
  },
  {
   "cell_type": "code",
   "execution_count": 27,
   "id": "bff36d0e",
   "metadata": {},
   "outputs": [
    {
     "name": "stdout",
     "output_type": "stream",
     "text": [
      "online      0.000\n",
      "age        57.000\n",
      "items       5.000\n",
      "amount    250.205\n",
      "region      2.000\n",
      "dtype: float64\n",
      "online       0.0\n",
      "age         40.0\n",
      "items        4.0\n",
      "amount    1547.3\n",
      "region       3.0\n",
      "dtype: float64\n",
      "online       0.00\n",
      "age         40.00\n",
      "items        5.00\n",
      "amount    1539.15\n",
      "region       4.00\n",
      "dtype: float64\n"
     ]
    },
    {
     "data": {
      "image/png": "[encoded data removed]",
      "text/plain": [
       "<Figure size 432x288 with 1 Axes>"
      ]
     },
     "metadata": {
      "needs_background": "light"
     },
     "output_type": "display_data"
    }
   ],
   "source": [
    "#Boxplot of Age for each Region for Online Sales.\n",
    "#Slice data for Age and Region.\n",
    "Rdata = dataonline.iloc[:,[1,4]]\n",
    "# print(data.online) # check output\n",
    "# Create datatable of age for each regions\n",
    "North = dataonline.loc[dataonline['region'] == 1]\n",
    "South = dataonline.loc[dataonline['region'] == 2]\n",
    "East = dataonline.loc[dataonline['region'] == 3]\n",
    "West = dataonline.loc[dataonline['region'] == 4]\n",
    "\n",
    "print(South.median()) #check output\n",
    "print(East.median()) # check output\n",
    "print(West.median())  # check output\n",
    "\n",
    "# print(North) # check output\n",
    "# Create Datatable of just age column for each region for age\n",
    "Nage = North['age']\n",
    "Sage = South['age']\n",
    "Eage = East['age']\n",
    "Wage = West['age']\n",
    "# print(Nage)  #check output\n",
    "\n",
    "\n",
    "RegionAge = [Nage, Sage, Eage, Wage]\n",
    "labels = ['North', 'Website', 'East', 'West']\n",
    "fig, ax = plt.subplots()\n",
    "ax.set_title('On-Line Age by Region')\n",
    "ax.set_ylabel('Years', rotation=90, loc='center')\n",
    "ax.boxplot(RegionAge, labels=labels)\n",
    "\n",
    "plt.show()\n"
   ]
  },
  {
   "cell_type": "code",
   "execution_count": 28,
   "id": "1ed0adbb",
   "metadata": {},
   "outputs": [
    {
     "data": {
      "text/html": [
       "<div>\n",
       "<style scoped>\n",
       "    .dataframe tbody tr th:only-of-type {\n",
       "        vertical-align: middle;\n",
       "    }\n",
       "\n",
       "    .dataframe tbody tr th {\n",
       "        vertical-align: top;\n",
       "    }\n",
       "\n",
       "    .dataframe thead th {\n",
       "        text-align: right;\n",
       "    }\n",
       "</style>\n",
       "<table border=\"1\" class=\"dataframe\">\n",
       "  <thead>\n",
       "    <tr style=\"text-align: right;\">\n",
       "      <th></th>\n",
       "      <th>region</th>\n",
       "      <th>online</th>\n",
       "      <th>age</th>\n",
       "      <th>items</th>\n",
       "      <th>amount</th>\n",
       "    </tr>\n",
       "  </thead>\n",
       "  <tbody>\n",
       "    <tr>\n",
       "      <th>0</th>\n",
       "      <td>2</td>\n",
       "      <td>19994</td>\n",
       "      <td>19994</td>\n",
       "      <td>19994</td>\n",
       "      <td>19994</td>\n",
       "    </tr>\n",
       "    <tr>\n",
       "      <th>1</th>\n",
       "      <td>3</td>\n",
       "      <td>7001</td>\n",
       "      <td>7001</td>\n",
       "      <td>7001</td>\n",
       "      <td>7001</td>\n",
       "    </tr>\n",
       "    <tr>\n",
       "      <th>2</th>\n",
       "      <td>4</td>\n",
       "      <td>12994</td>\n",
       "      <td>12994</td>\n",
       "      <td>12994</td>\n",
       "      <td>12994</td>\n",
       "    </tr>\n",
       "  </tbody>\n",
       "</table>\n",
       "</div>"
      ],
      "text/plain": [
       "   region  online    age  items  amount\n",
       "0       2   19994  19994  19994   19994\n",
       "1       3    7001   7001   7001    7001\n",
       "2       4   12994  12994  12994   12994"
      ]
     },
     "execution_count": 28,
     "metadata": {},
     "output_type": "execute_result"
    }
   ],
   "source": [
    "# DataTabe Group on-line sales by region\n",
    "\n",
    "# Table for Total Amount spent / region\n",
    "dataonlineR = dataonline.groupby(['region'], as_index=False).count()\n",
    "dataonlineR"
   ]
  },
  {
   "cell_type": "code",
   "execution_count": 29,
   "id": "c3800f59",
   "metadata": {
    "scrolled": true
   },
   "outputs": [
    {
     "data": {
      "image/png": "[encoded data removed]",
      "text/plain": [
       "<Figure size 432x288 with 1 Axes>"
      ]
     },
     "metadata": {
      "needs_background": "light"
     },
     "output_type": "display_data"
    }
   ],
   "source": [
    "# Online Transactions by Region\n",
    "\n",
    "x = dataonlineR['region']\n",
    "y = dataonlineR['amount']\n",
    "plt.bar(x,y, 0.5, color = 'b')\n",
    "plt.xticks([1,2,3,4],['North', 'Website', 'East', 'West'], fontsize=13)\n",
    "plt.ylabel('# Transactions', loc='center', rotation=90, fontsize=12)\n",
    "plt.title('On-Line Transactions by Region', fontweight = 'bold', fontsize=15)\n",
    "plt.show()\n",
    "\n"
   ]
  },
  {
   "cell_type": "code",
   "execution_count": 30,
   "id": "a6b233a0",
   "metadata": {
    "scrolled": false
   },
   "outputs": [
    {
     "name": "stdout",
     "output_type": "stream",
     "text": [
      "   region  online      age  items        amount\n",
      "0       2       0  1131842  90229  5.040442e+06\n",
      "1       3       0   283403  31515  1.079354e+07\n",
      "2       4       0   526567  58733  2.005801e+07\n"
     ]
    },
    {
     "data": {
      "image/png": "[encoded data removed]",
      "text/plain": [
       "<Figure size 432x288 with 1 Axes>"
      ]
     },
     "metadata": {
      "needs_background": "light"
     },
     "output_type": "display_data"
    }
   ],
   "source": [
    "# Online Sales by Region\n",
    "\n",
    "dataonlineS = dataonline.groupby(['region'], as_index=False).sum()\n",
    "print(dataonlineS)\n",
    "x = dataonlineS['region']\n",
    "y = dataonlineS['amount']\n",
    "plt.bar(x,y, 0.5, color = 'b')\n",
    "plt.xticks([1,2,3,4],['North', 'Website', 'East', 'West'], fontsize=13)\n",
    "plt.ylabel('Sales (M$)', loc='center', rotation=90, fontsize=12)\n",
    "plt.title('On-Line Sales by Region', fontweight = 'bold', fontsize=15)\n",
    "plt.show()\n",
    "\n"
   ]
  },
  {
   "cell_type": "code",
   "execution_count": 31,
   "id": "608dcfea",
   "metadata": {
    "scrolled": false
   },
   "outputs": [
    {
     "data": {
      "image/png": "[encoded data removed]",
      "text/plain": [
       "<Figure size 576x432 with 1 Axes>"
      ]
     },
     "metadata": {
      "needs_background": "light"
     },
     "output_type": "display_data"
    }
   ],
   "source": [
    "# Sales / Transaction\n",
    "\n",
    "spend = data.groupby(['region'], as_index=False).mean()\n",
    "y = spend['amount']\n",
    "\n",
    "ind = np.arange(len(y))    # the x locations for the groups\n",
    "width = 0.5       # the width of the bars: can also be len(x) sequence\n",
    "\n",
    "\n",
    "fig, ax = plt.subplots(figsize = (8,6))\n",
    "p1 = ax.bar(ind, y , color='lightblue', width=width)\n",
    "\n",
    "p1barlabels = ('$744', '$252', '$918', '$1,284')\n",
    "ax.bar_label(p1, p1barlabels, fontsize=22, fontweight='bold')\n",
    "\n",
    "# ax.set_title('Spend ($/Transaction)', fontsize = 20, fontweight = 'bold')\n",
    "ax.set_xticks(ind, labels=['North', 'South', 'East', 'West'], fontsize = 26, fontweight = 'bold')\n",
    "\n",
    "\n",
    "#formatting plot border\n",
    "# plt.axis('off')\n",
    "ax.spines['top'].set_visible(False)\n",
    "ax.spines['right'].set_visible(False)\n",
    "ax.spines['bottom'].set_visible(True)\n",
    "ax.spines['left'].set_visible(False)\n",
    "ax.get_yaxis().set_visible(False)\n",
    "ax.get_xaxis().set_visible(True)\n",
    "\n",
    "plt.show()\n",
    "\n"
   ]
  },
  {
   "cell_type": "code",
   "execution_count": 32,
   "id": "1b4ec925",
   "metadata": {
    "scrolled": false
   },
   "outputs": [
    {
     "name": "stdout",
     "output_type": "stream",
     "text": [
      "   region  in-store    age  items  amount\n",
      "0       1     15997  15997  15997   15997\n",
      "1       2     19994  19994  19994   19994\n",
      "2       3     18000  18000  18000   18000\n",
      "3       4     25988  25988  25988   25988\n"
     ]
    },
    {
     "data": {
      "image/png": "[encoded data removed]",
      "text/plain": [
       "<Figure size 576x576 with 1 Axes>"
      ]
     },
     "metadata": {
      "needs_background": "light"
     },
     "output_type": "display_data"
    }
   ],
   "source": [
    "# Activity (# of Transactions)\n",
    "\n",
    "activity = data.groupby(['region'], as_index=False).count()\n",
    "y = activity['items']\n",
    "print(activity)\n",
    "\n",
    "ind = np.arange(len(y))    # the x locations for the groups\n",
    "width = 0.5       # the width of the bars: can also be len(x) sequence\n",
    "\n",
    "\n",
    "fig, ax = plt.subplots(figsize = (8,8))\n",
    "p1 = ax.bar(ind, y , color='lightblue', width=width)\n",
    "\n",
    "p1barlabels = ('15,997', '19,994', '18,000', '25,988')\n",
    "ax.bar_label(p1, p1barlabels, fontsize=22, fontweight='bold')\n",
    "\n",
    "# ax.set_title('Acivity: # of Transactions', fontsize = 20, fontweight = 'bold')\n",
    "ax.set_xticks(ind, labels=['North', 'South', 'East', 'West'], fontsize = 26, fontweight = 'bold')\n",
    "\n",
    "\n",
    "#formatting plot border\n",
    "# plt.axis('off')\n",
    "ax.spines['top'].set_visible(False)\n",
    "ax.spines['right'].set_visible(False)\n",
    "ax.spines['bottom'].set_visible(True)\n",
    "ax.spines['left'].set_visible(False)\n",
    "ax.get_yaxis().set_visible(False)\n",
    "ax.get_xaxis().set_visible(True)\n",
    "\n",
    "plt.show()\n",
    "\n"
   ]
  },
  {
   "cell_type": "code",
   "execution_count": 33,
   "id": "10d4e6be",
   "metadata": {
    "scrolled": true
   },
   "outputs": [
    {
     "ename": "SyntaxError",
     "evalue": "invalid syntax (3679400247.py, line 20)",
     "output_type": "error",
     "traceback": [
      "\u001b[1;36m  Input \u001b[1;32mIn [33]\u001b[1;36m\u001b[0m\n\u001b[1;33m    p1 = ax.bar(ind, , color='lightblue', width=width, label='On-Line')\u001b[0m\n\u001b[1;37m                     ^\u001b[0m\n\u001b[1;31mSyntaxError\u001b[0m\u001b[1;31m:\u001b[0m invalid syntax\n"
     ]
    }
   ],
   "source": [
    "# Online Sales/transaction by region\n",
    "\n",
    "\n",
    "dataonlineT = dataonline.groupby(['region'], as_index=False).mean()\n",
    "print(dataonlineT)\n",
    "\n",
    "# x = dataonlineT['region']\n",
    "# y = dataonlineT['amount']\n",
    "# plt.bar(x,y, 0.5, color = 'b')\n",
    "# plt.xticks([1,2,3,4],['North', 'Website', 'East', 'West'], fontsize=13)\n",
    "# plt.ylabel('Sales ($)', loc='center', rotation=90, fontsize=12)\n",
    "# plt.title('On-Line Sales/Transaction', fontweight = 'bold', fontsize=15)\n",
    "# plt.show()\n",
    "\n",
    "ind = np.arange(len(oline))    # the x locations for the groups\n",
    "width = 0.5       # the width of the bars: can also be len(x) sequence\n",
    "\n",
    "fig, ax = plt.subplots(figsize = (8,6))\n",
    "\n",
    "p1 = ax.bar(ind, , color='lightblue', width=width, label='On-Line')\n",
    "p2 = ax.bar(ind, istore, color='b', width=width, bottom=oline, label = 'In-Store') \n",
    "\n",
    "\n",
    "ax.axhline(0, color='grey', linewidth=0.8)\n",
    "ax.set_ylabel('Amount ($M)', fontsize = 13)\n",
    "ax.set_title('Sales Revenue by Region ($M)', fontsize = 20, fontweight = 'bold')\n",
    "ax.set_xticks(ind, labels=['North', 'South', 'East', 'West'], fontsize = 16, fontweight = 'bold')\n",
    "ax.legend(fontsize=14)\n",
    "\n",
    "# Label with label_type 'center' instead of the default 'edge'\n",
    "\n"
   ]
  },
  {
   "cell_type": "code",
   "execution_count": null,
   "id": "4a6c6b91",
   "metadata": {},
   "outputs": [],
   "source": [
    "#Total On-line vs Instore Transactions:\n",
    "\n",
    "dtpsales = data.groupby(['in-store'], as_index = False).sum()   \n",
    "# print(dtpsales)\n",
    "\n",
    "dtptrans = data.groupby(['in-store'], as_index = False).count()   \n",
    "dtpsales\n",
    "\n",
    "ind = np.arange(len(oline))    # the x locations for the groups\n",
    "width = 0.5       # the width of the bars: can also be len(x) sequence\n",
    "\n",
    "\n",
    "fig, ax = plt.subplots(figsize = (8,6))\n",
    "\n",
    "p1 = ax.bar(ind, , color='lightblue', width=width, label='On-Line')\n",
    "p2 = ax.bar(ind, istore, color='b', width=width, bottom=oline, label = 'In-Store') \n",
    "\n",
    "\n",
    "ax.axhline(0, color='grey', linewidth=0.8)\n",
    "ax.set_ylabel('Amount ($M)', fontsize = 13)\n",
    "ax.set_title('Sales Revenue by Region ($M)', fontsize = 20, fontweight = 'bold')\n",
    "ax.set_xticks(ind, labels=['North', 'South', 'East', 'West'], fontsize = 16, fontweight = 'bold')\n",
    "ax.legend(fontsize=14)\n",
    "\n",
    "# Label with label_type 'center' instead of the default 'edge'\n",
    "\n",
    "\n",
    "p1barlabels = (' ', '5.0', '10.7', '20.0')\n",
    "p2barlabels = (' ', ' ', '5.9', '11.0')\n",
    "p3barlabels = ('19.2', ' ', '5.7', '13.3')\n",
    "p3totlabels = ('19.2', '5.0', '16.5', '33.4')\n",
    "\n",
    "ax.bar_label(p1, p1barlabels, label_type='center', fontsize=14, fontweight = 'bold')\n",
    "ax.bar_label(p2, p2barlabels, label_type='center', fontsize=14, color='white', fontweight = 'bold')\n",
    "ax.bar_label(p2, p2totlabels, fontsize=14, fontweight='bold')\n",
    "\n",
    "#formatting plot border\n",
    "\n",
    "# plt.axis('off')\n",
    "ax.spines['top'].set_visible(False)\n",
    "ax.spines['right'].set_visible(False)\n",
    "ax.spines['bottom'].set_visible(True)\n",
    "ax.spines['left'].set_visible(False)\n",
    "ax.get_yaxis().set_visible(False)\n",
    "ax.get_xaxis().set_visible(True)\n"
   ]
  },
  {
   "cell_type": "code",
   "execution_count": 34,
   "id": "e97a6164",
   "metadata": {},
   "outputs": [
    {
     "ename": "NameError",
     "evalue": "name 'dtpsales' is not defined",
     "output_type": "error",
     "traceback": [
      "\u001b[1;31m---------------------------------------------------------------------------\u001b[0m",
      "\u001b[1;31mNameError\u001b[0m                                 Traceback (most recent call last)",
      "Input \u001b[1;32mIn [34]\u001b[0m, in \u001b[0;36m<cell line: 2>\u001b[1;34m()\u001b[0m\n\u001b[0;32m      1\u001b[0m \u001b[38;5;66;03m# Plot of sales $ by online vs instore\u001b[39;00m\n\u001b[1;32m----> 2\u001b[0m x \u001b[38;5;241m=\u001b[39m \u001b[43mdtpsales\u001b[49m[\u001b[38;5;124m'\u001b[39m\u001b[38;5;124min-store\u001b[39m\u001b[38;5;124m'\u001b[39m]\n\u001b[0;32m      3\u001b[0m y \u001b[38;5;241m=\u001b[39m dtpsales[\u001b[38;5;124m'\u001b[39m\u001b[38;5;124mamount\u001b[39m\u001b[38;5;124m'\u001b[39m]\n\u001b[0;32m      4\u001b[0m plt\u001b[38;5;241m.\u001b[39mbar(x,y, \u001b[38;5;241m0.5\u001b[39m, color \u001b[38;5;241m=\u001b[39m \u001b[38;5;124m'\u001b[39m\u001b[38;5;124mb\u001b[39m\u001b[38;5;124m'\u001b[39m)\n",
      "\u001b[1;31mNameError\u001b[0m: name 'dtpsales' is not defined"
     ]
    }
   ],
   "source": [
    "# Plot of sales $ by online vs instore\n",
    "x = dtpsales['in-store']\n",
    "y = dtpsales['amount']\n",
    "plt.bar(x,y, 0.5, color = 'b')\n",
    "plt.xticks([0,1],['On-Line', 'In-Store'], fontsize=13)\n",
    "plt.ylabel('Sales (M$)', loc='center', rotation=90, fontsize=12)\n",
    "plt.title('On-Line vs In-Store Sales', fontweight = 'bold', fontsize=15)\n",
    "plt.show()\n"
   ]
  },
  {
   "cell_type": "code",
   "execution_count": null,
   "id": "25c889e2",
   "metadata": {},
   "outputs": [],
   "source": [
    "# Plot of Transactions (#) by online vs instore\n",
    "x = dtptrans['in-store']\n",
    "y = dtptrans['amount']\n",
    "plt.bar(x,y, 0.5, color = 'b')\n",
    "plt.xticks([0,1],['On-Line', 'In-Store'], fontsize=13)\n",
    "plt.ylabel('# of Transactions', loc='center', rotation=90, fontsize=12)\n",
    "plt.title('On-Line vs In-Store Transactions', fontweight = 'bold', fontsize=15)\n",
    "plt.show()"
   ]
  },
  {
   "cell_type": "code",
   "execution_count": null,
   "id": "ac8aa2c7",
   "metadata": {},
   "outputs": [],
   "source": [
    "# Avg Online Sales / # of Items\n",
    "\n",
    "olitems = dataonline.groupby(['items'], as_index=False).mean()\n",
    "print(olitems)\n",
    "\n",
    "x = spitems['items']\n",
    "y = spitems['amount']\n",
    "\n",
    "plt.bar(x,y, color ='b')\n",
    "plt.ylim(600,950)\n",
    "# plt.axhline(y= 835.8, color='grey', linestyle = '--')\n",
    "plt.xlabel('Items',fontsize = 13)\n",
    "plt.ylabel('$', rotation=0, fontsize = 14)\n",
    "plt.title('On-Line Avg. Amount Spent / Items Purchased', fontweight = 'bold', fontsize=15)\n",
    "\n",
    "# plt.annotate(\"Overall Avg\",(4,836),(4.25,845), arrowprops ={})\n",
    "\n",
    "\n",
    "plt.show"
   ]
  },
  {
   "cell_type": "code",
   "execution_count": null,
   "id": "41606f88",
   "metadata": {},
   "outputs": [],
   "source": [
    "# Avg Instore Sales / # of Items\n",
    "\n",
    "isitems = datainstore.groupby(['items'], as_index=False).mean()\n",
    "print(isitems)\n",
    "\n",
    "x = isitems['items']\n",
    "y = isitems['amount']\n",
    "\n",
    "plt.bar(x,y, color ='b')\n",
    "plt.ylim(600,900)\n",
    "# plt.axhline(y= 835.8, color='grey', linestyle = '--')\n",
    "plt.xlabel('Items',fontsize = 13)\n",
    "plt.ylabel('$', rotation=0, fontsize = 14)\n",
    "plt.title('In-Store Avg. Amount Spent / Items Purchased', fontweight = 'bold', fontsize=15)\n",
    "\n",
    "# plt.annotate(\"Overall Avg\",(4,836),(4.25,845), arrowprops ={})\n",
    "\n",
    "\n",
    "plt.show"
   ]
  },
  {
   "cell_type": "code",
   "execution_count": 35,
   "id": "3a0f0ae2",
   "metadata": {},
   "outputs": [
    {
     "name": "stdout",
     "output_type": "stream",
     "text": [
      "   region  instore     age  items  Instore Amount\n",
      "0       1    15997  699135  72151    1.191762e+07\n",
      "1       3    10999  538242  49377    5.729913e+06\n",
      "2       4    12994  480531  58311    1.330898e+07\n",
      "   region  online      age  items  Online Amount\n",
      "0       2       0  1131842  90229   5.040442e+06\n",
      "1       3       0   283403  31515   1.079354e+07\n",
      "2       4       0   526567  58733   2.005801e+07\n",
      "3    0.000000e+00\n",
      "0    5.040442e+06\n",
      "1    1.079354e+07\n",
      "2    2.005801e+07\n",
      "Name: Online Amount, dtype: float64\n",
      "3    1.191762e+07\n",
      "0    0.000000e+00\n",
      "1    5.729913e+06\n",
      "2    1.330898e+07\n",
      "Name: Instore Amount, dtype: float64\n",
      "[0 1 2 3]\n",
      "[0.35, 1.35, 2.35, 3.35]\n"
     ]
    },
    {
     "data": {
      "image/png": "[encoded data removed]",
      "text/plain": [
       "<Figure size 576x432 with 1 Axes>"
      ]
     },
     "metadata": {
      "needs_background": "light"
     },
     "output_type": "display_data"
    }
   ],
   "source": [
    "# Total Transactions / region broken down by On-line and In-Store\n",
    "\n",
    "# Create online / instore datatables by region\n",
    "salesO = dataonline.groupby(['region'], as_index=False).sum()\n",
    "salesO.rename(columns = {'amount':'Online Amount'}, inplace=True)\n",
    "salesI = datainstore.groupby(['region'], as_index=False).sum()\n",
    "salesI.rename(columns = {'amount':'Instore Amount'}, inplace=True)\n",
    "print(salesI)\n",
    "print(salesO)\n",
    "\n",
    "# Merge into one datatable and fill NAN's with 0\n",
    "salesOI = pd.merge(salesO, salesI, how='outer', on='region')\n",
    "salesOI.fillna(0, inplace=True)\n",
    "salesOI.sort_values('region', inplace=True)\n",
    "salesOI['Total Amount'] = salesOI['Online Amount'] + salesOI['Instore Amount']\n",
    "\n",
    "# salesOI\n",
    "# print(salesOI)\n",
    "\n",
    "# set width of bar\n",
    "barWidth = 0.35\n",
    "fig, plt.subplots(figsize =(8, 6))\n",
    " \n",
    "# set height of bar\n",
    "oline = salesOI['Online Amount']\n",
    "istore = salesOI['Instore Amount']\n",
    "\n",
    "print(oline)\n",
    "print(istore)\n",
    "\n",
    " \n",
    "# Set position of bar on X axis\n",
    "br1 = np.arange(len(oline))\n",
    "br2 = [x + barWidth for x in br1]\n",
    "\n",
    "print(br1)\n",
    "print(br2)\n",
    " \n",
    "# Make the plot\n",
    "plt.bar(br1, oline, color ='lightblue', width = barWidth,\n",
    "        edgecolor ='grey', label ='On-Line')\n",
    "plt.bar(br2, istore, color ='b', width = barWidth,\n",
    "        edgecolor ='grey', label ='In-Store')\n",
    " \n",
    "# Adding Xticks\n",
    "plt.title('Sales Revenue by Region', fontweight = 'bold', fontsize = 17)\n",
    "#plt.xlabel('Region', fontsize = 14)\n",
    "plt.ylabel('Sales ($M)', fontsize = 14)\n",
    "plt.xticks([r + barWidth/2 for r in range(len(oline))],\n",
    "        ['North', 'South', 'East', 'West'], fontsize=14)\n",
    "\n",
    "\n",
    "\n",
    "# plt.bar_label(oline, label_type='edge')\n",
    "\n",
    "# ax.axhline(0, color='grey', linewidth=0.8)\n",
    "# ax.set_ylabel('Scores')\n",
    "# ax.set_title('Scores by group and gender')\n",
    "# ax.set_xticks(ind, labels=['G1', 'G2', 'G3', 'G4', 'G5'])\n",
    "# ax.legend()\n",
    "\n",
    "# # Label with label_type 'center' instead of the default 'edge'\n",
    "# ax.bar_label(p1, label_type='center')\n",
    "# ax.bar_label(p2, label_type='center')\n",
    "# ax.bar_label(p2)\n",
    "\n",
    "# # for i, v in enumerate(y)\n",
    "# # plt.x.text()\n",
    "\n",
    "\n",
    "\n",
    "# # for i, v in enumerate(y):\n",
    "# #     ax.text(v + 3, i + .25, str(v),\n",
    "# #             color = 'blue', fontweight = 'bold')\n",
    "\n",
    "plt.legend(fontsize = 12)\n",
    "plt.show()\n",
    "\n"
   ]
  },
  {
   "cell_type": "code",
   "execution_count": 42,
   "id": "0f13b3f9",
   "metadata": {},
   "outputs": [
    {
     "name": "stdout",
     "output_type": "stream",
     "text": [
      "3    0.000000e+00\n",
      "0    5.040442e+06\n",
      "1    1.079354e+07\n",
      "2    2.005801e+07\n",
      "Name: Online Amount, dtype: float64\n",
      "3    1.191762e+07\n",
      "0    0.000000e+00\n",
      "1    5.729913e+06\n",
      "2    1.330898e+07\n",
      "Name: Instore Amount, dtype: float64\n"
     ]
    },
    {
     "data": {
      "image/png": "[encoded data removed]",
      "text/plain": [
       "<Figure size 576x432 with 1 Axes>"
      ]
     },
     "metadata": {
      "needs_background": "light"
     },
     "output_type": "display_data"
    }
   ],
   "source": [
    "\n",
    "\n",
    "\n",
    "ind = np.arange(len(oline))    # the x locations for the groups\n",
    "width = 0.5       # the width of the bars: can also be len(x) sequence\n",
    "\n",
    "# set height of bar\n",
    "oline = salesOI['Online Amount']\n",
    "istore = salesOI['Instore Amount']\n",
    "print(oline)\n",
    "print(istore)\n",
    "\n",
    "fig, ax = plt.subplots(figsize = (8,6))\n",
    "\n",
    "p1 = ax.bar(ind, oline, color='lightblue', width=width, label='On-Line')\n",
    "p2 = ax.bar(ind, istore, color='b', width=width, bottom=oline, label = 'In-Store') \n",
    "\n",
    "\n",
    "# ax.axhline(0, color='grey', linewidth=0.8)\n",
    "ax.set_ylabel('Amount ($M)', fontsize = 13)\n",
    "# ax.set_title('Sales Revenue by Region ($M)', fontsize = 20, fontweight = 'bold')\n",
    "ax.set_xticks(ind, labels=['North', 'South', 'East', 'West'], fontsize = 16, fontweight = 'bold')\n",
    "ax.legend(fontsize=14)\n",
    "\n",
    "# Label with label_type 'center' instead of the default 'edge'\n",
    "\n",
    "p1barlabels = (' ', '5.0', '10.7', '20.0')\n",
    "p2barlabels = ('11.9 ', ' ', '5.7', '13.3')\n",
    "p2totlabels = ('11.9', '5.0', '16.4', '33.3')\n",
    "# p3barlabels = ('19.2', ' ', '5.7', '13.3')\n",
    "# p3totlabels = ('19.2', '5.0', '16.5', '33.4')\n",
    "\n",
    "ax.bar_label(p1, p1barlabels, label_type='center', fontsize=14, fontweight = 'bold')\n",
    "ax.bar_label(p2, p2barlabels, label_type='center', fontsize=14, color='white', fontweight = 'bold')\n",
    "ax.bar_label(p2, p2totlabels, fontsize=18, fontweight='bold')\n",
    "\n",
    "#formatting plot border\n",
    "\n",
    "# plt.axis('off')\n",
    "ax.spines['top'].set_visible(False)\n",
    "ax.spines['right'].set_visible(False)\n",
    "ax.spines['bottom'].set_visible(True)\n",
    "ax.spines['left'].set_visible(False)\n",
    "ax.get_yaxis().set_visible(False)\n",
    "ax.get_xaxis().set_visible(True)\n",
    "\n",
    "plt.show()"
   ]
  },
  {
   "cell_type": "code",
   "execution_count": 36,
   "id": "37ed2b99",
   "metadata": {},
   "outputs": [
    {
     "name": "stdout",
     "output_type": "stream",
     "text": [
      "       amount\n",
      "1         0.0\n",
      "2         0.0\n",
      "0   5902553.7\n",
      "1  10975860.3\n",
      "3    0.000000e+00\n",
      "0    5.040442e+06\n",
      "1    1.079354e+07\n",
      "2    2.005801e+07\n",
      "Name: Online Amount, dtype: float64\n",
      "3    1.191762e+07\n",
      "0    0.000000e+00\n",
      "1    5.729913e+06\n",
      "2    1.330898e+07\n",
      "Name: Instore Amount, dtype: float64\n"
     ]
    },
    {
     "ename": "TypeError",
     "evalue": "only size-1 arrays can be converted to Python scalars",
     "output_type": "error",
     "traceback": [
      "\u001b[1;31m---------------------------------------------------------------------------\u001b[0m",
      "\u001b[1;31mTypeError\u001b[0m                                 Traceback (most recent call last)",
      "Input \u001b[1;32mIn [36]\u001b[0m, in \u001b[0;36m<cell line: 25>\u001b[1;34m()\u001b[0m\n\u001b[0;32m     22\u001b[0m fig, ax \u001b[38;5;241m=\u001b[39m plt\u001b[38;5;241m.\u001b[39msubplots(figsize \u001b[38;5;241m=\u001b[39m (\u001b[38;5;241m8\u001b[39m,\u001b[38;5;241m6\u001b[39m))\n\u001b[0;32m     24\u001b[0m p1 \u001b[38;5;241m=\u001b[39m ax\u001b[38;5;241m.\u001b[39mbar(ind, oline, color\u001b[38;5;241m=\u001b[39m\u001b[38;5;124m'\u001b[39m\u001b[38;5;124mlightblue\u001b[39m\u001b[38;5;124m'\u001b[39m, width\u001b[38;5;241m=\u001b[39mwidth, label\u001b[38;5;241m=\u001b[39m\u001b[38;5;124m'\u001b[39m\u001b[38;5;124mOn-Line\u001b[39m\u001b[38;5;124m'\u001b[39m)\n\u001b[1;32m---> 25\u001b[0m p2 \u001b[38;5;241m=\u001b[39m \u001b[43max\u001b[49m\u001b[38;5;241;43m.\u001b[39;49m\u001b[43mbar\u001b[49m\u001b[43m(\u001b[49m\u001b[43mind\u001b[49m\u001b[43m,\u001b[49m\u001b[43m \u001b[49m\u001b[43md2salest\u001b[49m\u001b[43m,\u001b[49m\u001b[43m \u001b[49m\u001b[43mcolor\u001b[49m\u001b[43m \u001b[49m\u001b[38;5;241;43m=\u001b[39;49m\u001b[43m \u001b[49m\u001b[38;5;124;43m'\u001b[39;49m\u001b[38;5;124;43mg\u001b[39;49m\u001b[38;5;124;43m'\u001b[39;49m\u001b[43m,\u001b[49m\u001b[43m \u001b[49m\u001b[43mwidth\u001b[49m\u001b[38;5;241;43m=\u001b[39;49m\u001b[43mwidth\u001b[49m\u001b[43m,\u001b[49m\u001b[43m \u001b[49m\u001b[43mlabel\u001b[49m\u001b[43m \u001b[49m\u001b[38;5;241;43m=\u001b[39;49m\u001b[43m \u001b[49m\u001b[38;5;124;43m'\u001b[39;49m\u001b[38;5;124;43m> $2000\u001b[39;49m\u001b[38;5;124;43m'\u001b[39;49m\u001b[43m)\u001b[49m\n\u001b[0;32m     26\u001b[0m p3 \u001b[38;5;241m=\u001b[39m ax\u001b[38;5;241m.\u001b[39mbar(ind, istore, color\u001b[38;5;241m=\u001b[39m\u001b[38;5;124m'\u001b[39m\u001b[38;5;124mb\u001b[39m\u001b[38;5;124m'\u001b[39m, width\u001b[38;5;241m=\u001b[39mwidth, bottom\u001b[38;5;241m=\u001b[39moline, label \u001b[38;5;241m=\u001b[39m \u001b[38;5;124m'\u001b[39m\u001b[38;5;124mIn-Store\u001b[39m\u001b[38;5;124m'\u001b[39m) \n\u001b[0;32m     28\u001b[0m ax\u001b[38;5;241m.\u001b[39maxhline(\u001b[38;5;241m0\u001b[39m, color\u001b[38;5;241m=\u001b[39m\u001b[38;5;124m'\u001b[39m\u001b[38;5;124mgrey\u001b[39m\u001b[38;5;124m'\u001b[39m, linewidth\u001b[38;5;241m=\u001b[39m\u001b[38;5;241m0.8\u001b[39m)\n",
      "File \u001b[1;32m~\\anaconda3\\lib\\site-packages\\matplotlib\\__init__.py:1412\u001b[0m, in \u001b[0;36m_preprocess_data.<locals>.inner\u001b[1;34m(ax, data, *args, **kwargs)\u001b[0m\n\u001b[0;32m   1409\u001b[0m \u001b[38;5;129m@functools\u001b[39m\u001b[38;5;241m.\u001b[39mwraps(func)\n\u001b[0;32m   1410\u001b[0m \u001b[38;5;28;01mdef\u001b[39;00m \u001b[38;5;21minner\u001b[39m(ax, \u001b[38;5;241m*\u001b[39margs, data\u001b[38;5;241m=\u001b[39m\u001b[38;5;28;01mNone\u001b[39;00m, \u001b[38;5;241m*\u001b[39m\u001b[38;5;241m*\u001b[39mkwargs):\n\u001b[0;32m   1411\u001b[0m     \u001b[38;5;28;01mif\u001b[39;00m data \u001b[38;5;129;01mis\u001b[39;00m \u001b[38;5;28;01mNone\u001b[39;00m:\n\u001b[1;32m-> 1412\u001b[0m         \u001b[38;5;28;01mreturn\u001b[39;00m func(ax, \u001b[38;5;241m*\u001b[39m\u001b[38;5;28mmap\u001b[39m(sanitize_sequence, args), \u001b[38;5;241m*\u001b[39m\u001b[38;5;241m*\u001b[39mkwargs)\n\u001b[0;32m   1414\u001b[0m     bound \u001b[38;5;241m=\u001b[39m new_sig\u001b[38;5;241m.\u001b[39mbind(ax, \u001b[38;5;241m*\u001b[39margs, \u001b[38;5;241m*\u001b[39m\u001b[38;5;241m*\u001b[39mkwargs)\n\u001b[0;32m   1415\u001b[0m     auto_label \u001b[38;5;241m=\u001b[39m (bound\u001b[38;5;241m.\u001b[39marguments\u001b[38;5;241m.\u001b[39mget(label_namer)\n\u001b[0;32m   1416\u001b[0m                   \u001b[38;5;129;01mor\u001b[39;00m bound\u001b[38;5;241m.\u001b[39mkwargs\u001b[38;5;241m.\u001b[39mget(label_namer))\n",
      "File \u001b[1;32m~\\anaconda3\\lib\\site-packages\\matplotlib\\axes\\_axes.py:2395\u001b[0m, in \u001b[0;36mAxes.bar\u001b[1;34m(self, x, height, width, bottom, align, **kwargs)\u001b[0m\n\u001b[0;32m   2392\u001b[0m args \u001b[38;5;241m=\u001b[39m \u001b[38;5;28mzip\u001b[39m(left, bottom, width, height, color, edgecolor, linewidth,\n\u001b[0;32m   2393\u001b[0m            hatch)\n\u001b[0;32m   2394\u001b[0m \u001b[38;5;28;01mfor\u001b[39;00m l, b, w, h, c, e, lw, htch \u001b[38;5;129;01min\u001b[39;00m args:\n\u001b[1;32m-> 2395\u001b[0m     r \u001b[38;5;241m=\u001b[39m \u001b[43mmpatches\u001b[49m\u001b[38;5;241;43m.\u001b[39;49m\u001b[43mRectangle\u001b[49m\u001b[43m(\u001b[49m\n\u001b[0;32m   2396\u001b[0m \u001b[43m        \u001b[49m\u001b[43mxy\u001b[49m\u001b[38;5;241;43m=\u001b[39;49m\u001b[43m(\u001b[49m\u001b[43ml\u001b[49m\u001b[43m,\u001b[49m\u001b[43m \u001b[49m\u001b[43mb\u001b[49m\u001b[43m)\u001b[49m\u001b[43m,\u001b[49m\u001b[43m \u001b[49m\u001b[43mwidth\u001b[49m\u001b[38;5;241;43m=\u001b[39;49m\u001b[43mw\u001b[49m\u001b[43m,\u001b[49m\u001b[43m \u001b[49m\u001b[43mheight\u001b[49m\u001b[38;5;241;43m=\u001b[39;49m\u001b[43mh\u001b[49m\u001b[43m,\u001b[49m\n\u001b[0;32m   2397\u001b[0m \u001b[43m        \u001b[49m\u001b[43mfacecolor\u001b[49m\u001b[38;5;241;43m=\u001b[39;49m\u001b[43mc\u001b[49m\u001b[43m,\u001b[49m\n\u001b[0;32m   2398\u001b[0m \u001b[43m        \u001b[49m\u001b[43medgecolor\u001b[49m\u001b[38;5;241;43m=\u001b[39;49m\u001b[43me\u001b[49m\u001b[43m,\u001b[49m\n\u001b[0;32m   2399\u001b[0m \u001b[43m        \u001b[49m\u001b[43mlinewidth\u001b[49m\u001b[38;5;241;43m=\u001b[39;49m\u001b[43mlw\u001b[49m\u001b[43m,\u001b[49m\n\u001b[0;32m   2400\u001b[0m \u001b[43m        \u001b[49m\u001b[43mlabel\u001b[49m\u001b[38;5;241;43m=\u001b[39;49m\u001b[38;5;124;43m'\u001b[39;49m\u001b[38;5;124;43m_nolegend_\u001b[39;49m\u001b[38;5;124;43m'\u001b[39;49m\u001b[43m,\u001b[49m\n\u001b[0;32m   2401\u001b[0m \u001b[43m        \u001b[49m\u001b[43mhatch\u001b[49m\u001b[38;5;241;43m=\u001b[39;49m\u001b[43mhtch\u001b[49m\u001b[43m,\u001b[49m\n\u001b[0;32m   2402\u001b[0m \u001b[43m        \u001b[49m\u001b[43m)\u001b[49m\n\u001b[0;32m   2403\u001b[0m     r\u001b[38;5;241m.\u001b[39mupdate(kwargs)\n\u001b[0;32m   2404\u001b[0m     r\u001b[38;5;241m.\u001b[39mget_path()\u001b[38;5;241m.\u001b[39m_interpolation_steps \u001b[38;5;241m=\u001b[39m \u001b[38;5;241m100\u001b[39m\n",
      "File \u001b[1;32m~\\anaconda3\\lib\\site-packages\\matplotlib\\patches.py:727\u001b[0m, in \u001b[0;36mRectangle.__init__\u001b[1;34m(self, xy, width, height, angle, **kwargs)\u001b[0m\n\u001b[0;32m    708\u001b[0m \u001b[38;5;129m@docstring\u001b[39m\u001b[38;5;241m.\u001b[39mdedent_interpd\n\u001b[0;32m    709\u001b[0m \u001b[38;5;28;01mdef\u001b[39;00m \u001b[38;5;21m__init__\u001b[39m(\u001b[38;5;28mself\u001b[39m, xy, width, height, angle\u001b[38;5;241m=\u001b[39m\u001b[38;5;241m0.0\u001b[39m, \u001b[38;5;241m*\u001b[39m\u001b[38;5;241m*\u001b[39mkwargs):\n\u001b[0;32m    710\u001b[0m     \u001b[38;5;124;03m\"\"\"\u001b[39;00m\n\u001b[0;32m    711\u001b[0m \u001b[38;5;124;03m    Parameters\u001b[39;00m\n\u001b[0;32m    712\u001b[0m \u001b[38;5;124;03m    ----------\u001b[39;00m\n\u001b[1;32m   (...)\u001b[0m\n\u001b[0;32m    725\u001b[0m \u001b[38;5;124;03m        %(Patch:kwdoc)s\u001b[39;00m\n\u001b[0;32m    726\u001b[0m \u001b[38;5;124;03m    \"\"\"\u001b[39;00m\n\u001b[1;32m--> 727\u001b[0m     \u001b[38;5;28msuper\u001b[39m()\u001b[38;5;241m.\u001b[39m\u001b[38;5;21m__init__\u001b[39m(\u001b[38;5;241m*\u001b[39m\u001b[38;5;241m*\u001b[39mkwargs)\n\u001b[0;32m    728\u001b[0m     \u001b[38;5;28mself\u001b[39m\u001b[38;5;241m.\u001b[39m_x0 \u001b[38;5;241m=\u001b[39m xy[\u001b[38;5;241m0\u001b[39m]\n\u001b[0;32m    729\u001b[0m     \u001b[38;5;28mself\u001b[39m\u001b[38;5;241m.\u001b[39m_y0 \u001b[38;5;241m=\u001b[39m xy[\u001b[38;5;241m1\u001b[39m]\n",
      "File \u001b[1;32m~\\anaconda3\\lib\\site-packages\\matplotlib\\patches.py:106\u001b[0m, in \u001b[0;36mPatch.__init__\u001b[1;34m(self, edgecolor, facecolor, color, linewidth, linestyle, antialiased, hatch, fill, capstyle, joinstyle, **kwargs)\u001b[0m\n\u001b[0;32m    104\u001b[0m \u001b[38;5;28mself\u001b[39m\u001b[38;5;241m.\u001b[39mset_fill(fill)\n\u001b[0;32m    105\u001b[0m \u001b[38;5;28mself\u001b[39m\u001b[38;5;241m.\u001b[39mset_linestyle(linestyle)\n\u001b[1;32m--> 106\u001b[0m \u001b[38;5;28;43mself\u001b[39;49m\u001b[38;5;241;43m.\u001b[39;49m\u001b[43mset_linewidth\u001b[49m\u001b[43m(\u001b[49m\u001b[43mlinewidth\u001b[49m\u001b[43m)\u001b[49m\n\u001b[0;32m    107\u001b[0m \u001b[38;5;28mself\u001b[39m\u001b[38;5;241m.\u001b[39mset_antialiased(antialiased)\n\u001b[0;32m    108\u001b[0m \u001b[38;5;28mself\u001b[39m\u001b[38;5;241m.\u001b[39mset_hatch(hatch)\n",
      "File \u001b[1;32m~\\anaconda3\\lib\\site-packages\\matplotlib\\patches.py:411\u001b[0m, in \u001b[0;36mPatch.set_linewidth\u001b[1;34m(self, w)\u001b[0m\n\u001b[0;32m    408\u001b[0m     \u001b[38;5;28;01mif\u001b[39;00m w \u001b[38;5;129;01mis\u001b[39;00m \u001b[38;5;28;01mNone\u001b[39;00m:\n\u001b[0;32m    409\u001b[0m         w \u001b[38;5;241m=\u001b[39m mpl\u001b[38;5;241m.\u001b[39mrcParams[\u001b[38;5;124m'\u001b[39m\u001b[38;5;124maxes.linewidth\u001b[39m\u001b[38;5;124m'\u001b[39m]\n\u001b[1;32m--> 411\u001b[0m \u001b[38;5;28mself\u001b[39m\u001b[38;5;241m.\u001b[39m_linewidth \u001b[38;5;241m=\u001b[39m \u001b[38;5;28;43mfloat\u001b[39;49m\u001b[43m(\u001b[49m\u001b[43mw\u001b[49m\u001b[43m)\u001b[49m\n\u001b[0;32m    412\u001b[0m \u001b[38;5;66;03m# scale the dash pattern by the linewidth\u001b[39;00m\n\u001b[0;32m    413\u001b[0m offset, ls \u001b[38;5;241m=\u001b[39m \u001b[38;5;28mself\u001b[39m\u001b[38;5;241m.\u001b[39m_us_dashes\n",
      "\u001b[1;31mTypeError\u001b[0m: only size-1 arrays can be converted to Python scalars"
     ]
    },
    {
     "data": {
      "image/png": "[encoded data removed]",
      "text/plain": [
       "<Figure size 576x432 with 1 Axes>"
      ]
     },
     "metadata": {
      "needs_background": "light"
     },
     "output_type": "display_data"
    }
   ],
   "source": [
    "#Sales over $2000.\n",
    "\n",
    "data2000 = data.query('amount>=2000', inplace=False)\n",
    "d2sales = data2000.groupby(['region'], as_index=False).sum()\n",
    "d2sales1 = d2sales.iloc[:,[4]]\n",
    "d2salesr = pd.DataFrame({'amount' : [0,0]}, index = [1,2])\n",
    "d2salest = pd.concat([d2salesr, d2sales1])\n",
    "\n",
    "\n",
    "# print(d2salesr)\n",
    "# print(d2sales1)\n",
    "print(d2salest)\n",
    "print(oline)\n",
    "print(istore)\n",
    "\n",
    "\n",
    "\n",
    "ind = np.arange(len(oline))    # the x locations for the groups\n",
    "width = 0.5       # the width of the bars: can also be len(x) sequence\n",
    "\n",
    "\n",
    "fig, ax = plt.subplots(figsize = (8,6))\n",
    "\n",
    "p1 = ax.bar(ind, oline, color='lightblue', width=width, label='On-Line')\n",
    "p2 = ax.bar(ind, d2salest, color = 'g', width=width, label = '> $2000')\n",
    "p3 = ax.bar(ind, istore, color='b', width=width, bottom=oline, label = 'In-Store') \n",
    "\n",
    "ax.axhline(0, color='grey', linewidth=0.8)\n",
    "ax.set_ylabel('Amount ($M)', fontsize = 13)\n",
    "ax.set_title('Sales Revenue by Region ($M)', fontsize = 20, fontweight = 'bold')\n",
    "ax.set_xticks(ind, labels=['North', 'South', 'East', 'West'], fontsize = 16, fontweight = 'bold')\n",
    "ax.legend(fontsize=14)\n",
    "\n",
    "# Bar Labels \n",
    "p1barlabels = (' ', '5.0', '10.7', '20.0')\n",
    "p2barlabels = (' ', ' ', '5.9', '11.0')\n",
    "p3barlabels = ('19.2', ' ', '5.7', '13.3')\n",
    "p3totlabels = ('19.2', '5.0', '16.5', '33.4')\n",
    "\n",
    "ax.bar_label(p1, p1barlabels, label_type='center', fontsize=14, fontweight = 'bold')\n",
    "ax.bar_label(p2, p2barlabels, label_type='center', fontsize=14, fontweight = 'bold')\n",
    "ax.bar_label(p3, p3barlabels, label_type='center', fontsize=14, color='white', fontweight = 'bold')\n",
    "ax.bar_label(p3, p3totlabels, fontsize=14, fontweight='bold')\n",
    "\n",
    "\n",
    "#format Plots Border \n",
    "# plt.axis('off')\n",
    "ax.spines['top'].set_visible(False)\n",
    "ax.spines['right'].set_visible(False)\n",
    "ax.spines['bottom'].set_visible(True)\n",
    "ax.spines['left'].set_visible(False)\n",
    "ax.get_yaxis().set_visible(False)\n",
    "ax.get_xaxis().set_visible(True)\n",
    "\n",
    "plt.show()"
   ]
  },
  {
   "cell_type": "code",
   "execution_count": 136,
   "id": "8e70aeda",
   "metadata": {},
   "outputs": [
    {
     "data": {
      "text/html": [
       "<div>\n",
       "<style scoped>\n",
       "    .dataframe tbody tr th:only-of-type {\n",
       "        vertical-align: middle;\n",
       "    }\n",
       "\n",
       "    .dataframe tbody tr th {\n",
       "        vertical-align: top;\n",
       "    }\n",
       "\n",
       "    .dataframe thead th {\n",
       "        text-align: right;\n",
       "    }\n",
       "</style>\n",
       "<table border=\"1\" class=\"dataframe\">\n",
       "  <thead>\n",
       "    <tr style=\"text-align: right;\">\n",
       "      <th></th>\n",
       "      <th>in-store</th>\n",
       "      <th>age</th>\n",
       "      <th>items</th>\n",
       "      <th>amount</th>\n",
       "      <th>region</th>\n",
       "    </tr>\n",
       "  </thead>\n",
       "  <tbody>\n",
       "    <tr>\n",
       "      <th>0</th>\n",
       "      <td>0</td>\n",
       "      <td>37</td>\n",
       "      <td>4</td>\n",
       "      <td>281.03</td>\n",
       "      <td>2</td>\n",
       "    </tr>\n",
       "    <tr>\n",
       "      <th>1</th>\n",
       "      <td>0</td>\n",
       "      <td>35</td>\n",
       "      <td>2</td>\n",
       "      <td>219.51</td>\n",
       "      <td>2</td>\n",
       "    </tr>\n",
       "    <tr>\n",
       "      <th>2</th>\n",
       "      <td>1</td>\n",
       "      <td>45</td>\n",
       "      <td>3</td>\n",
       "      <td>1525.70</td>\n",
       "      <td>4</td>\n",
       "    </tr>\n",
       "    <tr>\n",
       "      <th>3</th>\n",
       "      <td>1</td>\n",
       "      <td>46</td>\n",
       "      <td>3</td>\n",
       "      <td>715.25</td>\n",
       "      <td>3</td>\n",
       "    </tr>\n",
       "    <tr>\n",
       "      <th>4</th>\n",
       "      <td>1</td>\n",
       "      <td>33</td>\n",
       "      <td>4</td>\n",
       "      <td>1937.50</td>\n",
       "      <td>1</td>\n",
       "    </tr>\n",
       "    <tr>\n",
       "      <th>...</th>\n",
       "      <td>...</td>\n",
       "      <td>...</td>\n",
       "      <td>...</td>\n",
       "      <td>...</td>\n",
       "      <td>...</td>\n",
       "    </tr>\n",
       "    <tr>\n",
       "      <th>79995</th>\n",
       "      <td>1</td>\n",
       "      <td>71</td>\n",
       "      <td>3</td>\n",
       "      <td>558.82</td>\n",
       "      <td>1</td>\n",
       "    </tr>\n",
       "    <tr>\n",
       "      <th>79996</th>\n",
       "      <td>0</td>\n",
       "      <td>59</td>\n",
       "      <td>7</td>\n",
       "      <td>1932.00</td>\n",
       "      <td>3</td>\n",
       "    </tr>\n",
       "    <tr>\n",
       "      <th>79997</th>\n",
       "      <td>0</td>\n",
       "      <td>54</td>\n",
       "      <td>1</td>\n",
       "      <td>414.16</td>\n",
       "      <td>2</td>\n",
       "    </tr>\n",
       "    <tr>\n",
       "      <th>79998</th>\n",
       "      <td>1</td>\n",
       "      <td>49</td>\n",
       "      <td>4</td>\n",
       "      <td>335.32</td>\n",
       "      <td>1</td>\n",
       "    </tr>\n",
       "    <tr>\n",
       "      <th>79999</th>\n",
       "      <td>1</td>\n",
       "      <td>30</td>\n",
       "      <td>1</td>\n",
       "      <td>527.12</td>\n",
       "      <td>3</td>\n",
       "    </tr>\n",
       "  </tbody>\n",
       "</table>\n",
       "<p>79979 rows × 5 columns</p>\n",
       "</div>"
      ],
      "text/plain": [
       "       in-store  age  items   amount  region\n",
       "0             0   37      4   281.03       2\n",
       "1             0   35      2   219.51       2\n",
       "2             1   45      3  1525.70       4\n",
       "3             1   46      3   715.25       3\n",
       "4             1   33      4  1937.50       1\n",
       "...         ...  ...    ...      ...     ...\n",
       "79995         1   71      3   558.82       1\n",
       "79996         0   59      7  1932.00       3\n",
       "79997         0   54      1   414.16       2\n",
       "79998         1   49      4   335.32       1\n",
       "79999         1   30      1   527.12       3\n",
       "\n",
       "[79979 rows x 5 columns]"
      ]
     },
     "execution_count": 136,
     "metadata": {},
     "output_type": "execute_result"
    }
   ],
   "source": [
    "data"
   ]
  },
  {
   "cell_type": "code",
   "execution_count": 139,
   "id": "3dcf691a",
   "metadata": {},
   "outputs": [
    {
     "name": "stdout",
     "output_type": "stream",
     "text": [
      "       in-store  age  items  amount  region\n",
      "18            0   35      2  2791.6       4\n",
      "21            0   49      5  2524.4       3\n",
      "42            0   57      4  2289.2       3\n",
      "57            0   53      5  2952.8       4\n",
      "71            0   62      7  2591.3       3\n",
      "...         ...  ...    ...     ...     ...\n",
      "79943         0   40      8  2314.6       3\n",
      "79955         0   47      4  2829.0       4\n",
      "79957         0   33      6  2590.5       4\n",
      "79969         0   22      7  2906.4       4\n",
      "79976         0   40      1  2854.8       4\n",
      "\n",
      "[6750 rows x 5 columns]\n",
      "   region  in-store     age  items      amount\n",
      "0       3         0   95737  10638   5902553.7\n",
      "1       4         0  177486  19852  10975860.3\n",
      "   region  in-store        age    items       amount\n",
      "0       3       0.0  40.497885  4.50000  2496.850127\n",
      "1       4       0.0  40.466484  4.52622  2502.476129\n"
     ]
    }
   ],
   "source": [
    "\n",
    "data2000 = data.query('amount>=2000', inplace=False)\n",
    "d2sales = data2000.groupby(['region'], as_index=False).sum()\n"
   ]
  },
  {
   "cell_type": "code",
   "execution_count": 154,
   "id": "ca7a8c8f",
   "metadata": {},
   "outputs": [
    {
     "data": {
      "text/html": [
       "<div>\n",
       "<style scoped>\n",
       "    .dataframe tbody tr th:only-of-type {\n",
       "        vertical-align: middle;\n",
       "    }\n",
       "\n",
       "    .dataframe tbody tr th {\n",
       "        vertical-align: top;\n",
       "    }\n",
       "\n",
       "    .dataframe thead th {\n",
       "        text-align: right;\n",
       "    }\n",
       "</style>\n",
       "<table border=\"1\" class=\"dataframe\">\n",
       "  <thead>\n",
       "    <tr style=\"text-align: right;\">\n",
       "      <th></th>\n",
       "      <th>in-store</th>\n",
       "      <th>age</th>\n",
       "      <th>items</th>\n",
       "      <th>amount</th>\n",
       "      <th>region</th>\n",
       "    </tr>\n",
       "  </thead>\n",
       "  <tbody>\n",
       "    <tr>\n",
       "      <th>0</th>\n",
       "      <td>0</td>\n",
       "      <td>37</td>\n",
       "      <td>4</td>\n",
       "      <td>281.03</td>\n",
       "      <td>2</td>\n",
       "    </tr>\n",
       "    <tr>\n",
       "      <th>1</th>\n",
       "      <td>0</td>\n",
       "      <td>35</td>\n",
       "      <td>2</td>\n",
       "      <td>219.51</td>\n",
       "      <td>2</td>\n",
       "    </tr>\n",
       "    <tr>\n",
       "      <th>2</th>\n",
       "      <td>1</td>\n",
       "      <td>45</td>\n",
       "      <td>3</td>\n",
       "      <td>1525.70</td>\n",
       "      <td>4</td>\n",
       "    </tr>\n",
       "    <tr>\n",
       "      <th>3</th>\n",
       "      <td>1</td>\n",
       "      <td>46</td>\n",
       "      <td>3</td>\n",
       "      <td>715.25</td>\n",
       "      <td>3</td>\n",
       "    </tr>\n",
       "    <tr>\n",
       "      <th>4</th>\n",
       "      <td>1</td>\n",
       "      <td>33</td>\n",
       "      <td>4</td>\n",
       "      <td>1937.50</td>\n",
       "      <td>1</td>\n",
       "    </tr>\n",
       "    <tr>\n",
       "      <th>...</th>\n",
       "      <td>...</td>\n",
       "      <td>...</td>\n",
       "      <td>...</td>\n",
       "      <td>...</td>\n",
       "      <td>...</td>\n",
       "    </tr>\n",
       "    <tr>\n",
       "      <th>79995</th>\n",
       "      <td>1</td>\n",
       "      <td>71</td>\n",
       "      <td>3</td>\n",
       "      <td>558.82</td>\n",
       "      <td>1</td>\n",
       "    </tr>\n",
       "    <tr>\n",
       "      <th>79996</th>\n",
       "      <td>0</td>\n",
       "      <td>59</td>\n",
       "      <td>7</td>\n",
       "      <td>1932.00</td>\n",
       "      <td>3</td>\n",
       "    </tr>\n",
       "    <tr>\n",
       "      <th>79997</th>\n",
       "      <td>0</td>\n",
       "      <td>54</td>\n",
       "      <td>1</td>\n",
       "      <td>414.16</td>\n",
       "      <td>2</td>\n",
       "    </tr>\n",
       "    <tr>\n",
       "      <th>79998</th>\n",
       "      <td>1</td>\n",
       "      <td>49</td>\n",
       "      <td>4</td>\n",
       "      <td>335.32</td>\n",
       "      <td>1</td>\n",
       "    </tr>\n",
       "    <tr>\n",
       "      <th>79999</th>\n",
       "      <td>1</td>\n",
       "      <td>30</td>\n",
       "      <td>1</td>\n",
       "      <td>527.12</td>\n",
       "      <td>3</td>\n",
       "    </tr>\n",
       "  </tbody>\n",
       "</table>\n",
       "<p>79979 rows × 5 columns</p>\n",
       "</div>"
      ],
      "text/plain": [
       "       in-store  age  items   amount  region\n",
       "0             0   37      4   281.03       2\n",
       "1             0   35      2   219.51       2\n",
       "2             1   45      3  1525.70       4\n",
       "3             1   46      3   715.25       3\n",
       "4             1   33      4  1937.50       1\n",
       "...         ...  ...    ...      ...     ...\n",
       "79995         1   71      3   558.82       1\n",
       "79996         0   59      7  1932.00       3\n",
       "79997         0   54      1   414.16       2\n",
       "79998         1   49      4   335.32       1\n",
       "79999         1   30      1   527.12       3\n",
       "\n",
       "[79979 rows x 5 columns]"
      ]
     },
     "execution_count": 154,
     "metadata": {},
     "output_type": "execute_result"
    }
   ],
   "source": [
    "data\n"
   ]
  },
  {
   "cell_type": "code",
   "execution_count": 163,
   "id": "696384d5",
   "metadata": {},
   "outputs": [
    {
     "data": {
      "text/html": [
       "<div>\n",
       "<style scoped>\n",
       "    .dataframe tbody tr th:only-of-type {\n",
       "        vertical-align: middle;\n",
       "    }\n",
       "\n",
       "    .dataframe tbody tr th {\n",
       "        vertical-align: top;\n",
       "    }\n",
       "\n",
       "    .dataframe thead th {\n",
       "        text-align: right;\n",
       "    }\n",
       "</style>\n",
       "<table border=\"1\" class=\"dataframe\">\n",
       "  <thead>\n",
       "    <tr style=\"text-align: right;\">\n",
       "      <th></th>\n",
       "      <th>region</th>\n",
       "      <th>in-store</th>\n",
       "      <th>age</th>\n",
       "      <th>items</th>\n",
       "      <th>amount</th>\n",
       "    </tr>\n",
       "  </thead>\n",
       "  <tbody>\n",
       "    <tr>\n",
       "      <th>0</th>\n",
       "      <td>1</td>\n",
       "      <td>1.000000</td>\n",
       "      <td>43.704132</td>\n",
       "      <td>4.510283</td>\n",
       "      <td>744.990939</td>\n",
       "    </tr>\n",
       "    <tr>\n",
       "      <th>1</th>\n",
       "      <td>2</td>\n",
       "      <td>0.000000</td>\n",
       "      <td>56.609083</td>\n",
       "      <td>4.512804</td>\n",
       "      <td>252.097741</td>\n",
       "    </tr>\n",
       "    <tr>\n",
       "      <th>2</th>\n",
       "      <td>3</td>\n",
       "      <td>0.611056</td>\n",
       "      <td>45.646944</td>\n",
       "      <td>4.494000</td>\n",
       "      <td>917.969637</td>\n",
       "    </tr>\n",
       "    <tr>\n",
       "      <th>3</th>\n",
       "      <td>4</td>\n",
       "      <td>0.500000</td>\n",
       "      <td>38.752424</td>\n",
       "      <td>4.503771</td>\n",
       "      <td>1283.938357</td>\n",
       "    </tr>\n",
       "  </tbody>\n",
       "</table>\n",
       "</div>"
      ],
      "text/plain": [
       "   region  in-store        age     items       amount\n",
       "0       1  1.000000  43.704132  4.510283   744.990939\n",
       "1       2  0.000000  56.609083  4.512804   252.097741\n",
       "2       3  0.611056  45.646944  4.494000   917.969637\n",
       "3       4  0.500000  38.752424  4.503771  1283.938357"
      ]
     },
     "execution_count": 163,
     "metadata": {},
     "output_type": "execute_result"
    }
   ],
   "source": [
    "#Spend = $/Transaction\n",
    "\n",
    "spend = data.groupby(['region'], as_index=False).mean()\n",
    "# Rspend = data.groupby(['region'], as_index=False).sum()\n",
    "spend\n",
    "# print(Rtrans)\n",
    "# print(Rspend)\n",
    "\n",
    "# Spt = np.divide(Rspend['amount'], Rtrans['items'])\n",
    "# Spt\n",
    "\n",
    "\n"
   ]
  },
  {
   "cell_type": "code",
   "execution_count": null,
   "id": "2d527244",
   "metadata": {},
   "outputs": [],
   "source": []
  }
 ],
 "metadata": {
  "kernelspec": {
   "display_name": "Python 3 (ipykernel)",
   "language": "python",
   "name": "python3"
  },
  "language_info": {
   "codemirror_mode": {
    "name": "ipython",
    "version": 3
   },
   "file_extension": ".py",
   "mimetype": "text/x-python",
   "name": "python",
   "nbconvert_exporter": "python",
   "pygments_lexer": "ipython3",
   "version": "3.9.7"
  }
 },
 "nbformat": 4,
 "nbformat_minor": 5
}
